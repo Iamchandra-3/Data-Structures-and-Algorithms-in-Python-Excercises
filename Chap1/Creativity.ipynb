{
 "cells": [
  {
   "attachments": {},
   "cell_type": "markdown",
   "metadata": {},
   "source": [
    "Write a pseudo-code description of a function that reverses a list of n\n",
    "integers, so that the numbers are listed in the opposite order than they\n",
    "were before, and compare this method to an equivalent Python function\n",
    "for doing the same thing."
   ]
  },
  {
   "cell_type": "code",
   "execution_count": 1,
   "metadata": {},
   "outputs": [
    {
     "name": "stdout",
     "output_type": "stream",
     "text": [
      "[34, 23, 3, 9]\n"
     ]
    }
   ],
   "source": [
    "# #C-1.13\n",
    "# Pseudo-code:\n",
    "\n",
    "# FUNCTION reverseList(list)\n",
    "#   SET reverseList = []\n",
    "#   FOR i in range(len(list))\n",
    "#     SET reverseList ELEMENT i TO list ELEMENT (len(list) - i - 1)\n",
    "#   ENDFOR\n",
    "#   RETURN reverseList\n",
    "# ENDFUNCTION\n",
    "\n",
    "# Equivalent Python Function: \n",
    "\n",
    "def reverseList(list):\n",
    "  reverseList = []\n",
    "  for i in range(len(list)):\n",
    "    reverseList.append(list[len(list)-i-1])\n",
    "  return reverseList\n",
    "\n",
    "print(reverseList([9,3,23,34]))"
   ]
  },
  {
   "attachments": {},
   "cell_type": "markdown",
   "metadata": {},
   "source": [
    "Write a short Python function that takes a sequence of integer values and\n",
    "determines if there is a distinct pair of numbers in the sequence whose\n",
    "product is odd."
   ]
  },
  {
   "cell_type": "code",
   "execution_count": 17,
   "metadata": {},
   "outputs": [
    {
     "name": "stdout",
     "output_type": "stream",
     "text": [
      "False\n",
      "True\n"
     ]
    }
   ],
   "source": [
    "# #C-1.14\n",
    "def odd_pair(data):\n",
    "    count = 0\n",
    "    for k in data:\n",
    "        if k % 2 != 0:\n",
    "            count += 1\n",
    "            data.remove(k)\n",
    "    return True if count >= 2 else False\n",
    "\n",
    "print(odd_pair([2,4,6,8]))\n",
    "print(odd_pair([1,4,2,1]))\n"
   ]
  },
  {
   "attachments": {},
   "cell_type": "markdown",
   "metadata": {},
   "source": [
    "Write a Python function that takes a sequence of numbers and determines\n",
    "if all the numbers are different from each other (that is, they are distinct)."
   ]
  },
  {
   "cell_type": "code",
   "execution_count": 25,
   "metadata": {},
   "outputs": [
    {
     "name": "stdout",
     "output_type": "stream",
     "text": [
      "True\n",
      "False\n"
     ]
    }
   ],
   "source": [
    " #C-1.15\n",
    "n=[1,2,3,5]\n",
    "m=[1,2,3,3]\n",
    "c=[]\n",
    "def fun(data):\n",
    "    for i in n:\n",
    "        if i in c:\n",
    "            return False\n",
    "        c.append(i)\n",
    "    return True\n",
    "print(fun(n))\n",
    "print(fun(m))\n"
   ]
  },
  {
   "attachments": {},
   "cell_type": "markdown",
   "metadata": {},
   "source": [
    "#c-1.16\n",
    "\n",
    "\n",
    "In our implementation of the scale function (page 25), the body of the loop executes the command data[j] = factor. We have discussed that numeric types are immutable, and that use of the = operator in this context causes the creation of a new instance (not the mutation of an existing instance). How is it still possible, then, that our implementation of scale changes the actual parameter sent by the caller?\n",
    "\n",
    "Answer: The reason why the actual parameter sent by the function caller is changed is that the parameter is a list (array) and that particular element of the array is assigned to a new numeric object."
   ]
  },
  {
   "attachments": {},
   "cell_type": "markdown",
   "metadata": {},
   "source": [
    "#C-1.17\n",
    "\n",
    "\n",
    "Had we implemented the scale function (page 25) as follows, does it work\n",
    "properly?\n",
    "def scale(data, factor):\n",
    "for val in data:\n",
    "val = factor\n",
    "Explain why or why not.\n",
    "\n",
    "Answer:This wouldn't have worked. val is an alias to the actual element in data and assigning a \n",
    "new object to it will only change val's value."
   ]
  },
  {
   "attachments": {},
   "cell_type": "markdown",
   "metadata": {},
   "source": [
    "Demonstrate how to use Python’s list comprehension syntax to produce\n",
    "the list [0, 2, 6, 12, 20, 30, 42, 56, 72, 90]"
   ]
  },
  {
   "cell_type": "code",
   "execution_count": 28,
   "metadata": {},
   "outputs": [
    {
     "name": "stdout",
     "output_type": "stream",
     "text": [
      "[0, 2, 6, 12, 20, 30, 42, 56, 72, 90]\n"
     ]
    }
   ],
   "source": [
    "#C-1.18\n",
    "\n",
    "print([k * (k - 1) for k in range(1, 11)])"
   ]
  },
  {
   "attachments": {},
   "cell_type": "markdown",
   "metadata": {},
   "source": [
    "Demonstrate how to use Python’s list comprehension syntax to produce\n",
    "the list [ a , b , c , ..., z ], but without having to type all 26 such\n",
    "characters literally"
   ]
  },
  {
   "cell_type": "code",
   "execution_count": 30,
   "metadata": {},
   "outputs": [
    {
     "name": "stdout",
     "output_type": "stream",
     "text": [
      "['a', 'b', 'c', 'd', 'e', 'f', 'g', 'h', 'i', 'j', 'k', 'l', 'm', 'n', 'o', 'p', 'q', 'r', 's', 't', 'u', 'v', 'w', 'x', 'y', 'z']\n"
     ]
    }
   ],
   "source": [
    "#C-1.19\n",
    "print([chr(i) for i in range(ord('a'),ord('z')+1)])"
   ]
  },
  {
   "attachments": {},
   "cell_type": "markdown",
   "metadata": {},
   "source": [
    "Python’s random module includes a function shuffle(data) that accepts a\n",
    "list of elements and randomly reorders the elements so that each possi\u0002ble order occurs with equal probability. The random module includes a\n",
    "more basic function randint(a, b) that returns a uniformly random integer\n",
    "from a to b (including both endpoints). Using only the randint function,\n",
    "implement your own version of the shuffle function."
   ]
  },
  {
   "cell_type": "code",
   "execution_count": 66,
   "metadata": {},
   "outputs": [
    {
     "name": "stdout",
     "output_type": "stream",
     "text": [
      "[8, 2, 6, 1, 7, 5, 3, 4]\n"
     ]
    }
   ],
   "source": [
    "#C-1.20\n",
    "import random\n",
    "\n",
    "def shufl(data):\n",
    "    for k in range(0, len(data)):\n",
    "        random_index = random.randint(0, k)\n",
    "        tmp = data[random_index]\n",
    "        data[random_index] = data[k]\n",
    "        data[k] = tmp\n",
    "    return data\n",
    "\n",
    "\n",
    "print(shufl([1,2,3,4,5,6,7,8]))\n"
   ]
  },
  {
   "attachments": {},
   "cell_type": "markdown",
   "metadata": {},
   "source": [
    "Write a Python program that repeatedly reads lines from standard input\n",
    "until an EOFError is raised, and then outputs those lines in reverse order\n",
    "(a user can indicate end of input by typing ctrl-D)."
   ]
  },
  {
   "cell_type": "code",
   "execution_count": 1,
   "metadata": {},
   "outputs": [
    {
     "name": "stdout",
     "output_type": "stream",
     "text": [
      "ctrl-D\n",
      "ewflkwebuferdf7iwgdbn\n",
      "ewfnwefv2etfdu2bd\n",
      "ewfkjwebfhbweufvuewb\n",
      "jhedbwdbwkfewlnw\n"
     ]
    }
   ],
   "source": [
    "#C-1.21\n",
    "lines = []\n",
    "while True:\n",
    "    try:\n",
    "        line = input()\n",
    "    except EOFError:\n",
    "        break\n",
    "    lines.append(line)\n",
    "    if line == 'ctrl-D':\n",
    "        break\n",
    "\n",
    "# Output lines in reverse order\n",
    "for line in reversed(lines):\n",
    "    print(line)"
   ]
  },
  {
   "attachments": {},
   "cell_type": "markdown",
   "metadata": {},
   "source": [
    "Write a short Python program that takes two arrays a and b of length n\n",
    "storing int values, and returns the dot product of a and b. That is, it returns\n",
    "an array c of length n such that c[i] = a[i] · b[i], for i = 0,...,n−1."
   ]
  },
  {
   "cell_type": "code",
   "execution_count": 2,
   "metadata": {},
   "outputs": [
    {
     "name": "stdout",
     "output_type": "stream",
     "text": [
      "[5, 12, 21, 32]\n"
     ]
    }
   ],
   "source": [
    "#C-1.22\n",
    "n=[1,2,3,4]\n",
    "m=[5,6,7,8]\n",
    "\n",
    "print([n[i]*m[i] for i in range(len(n))])"
   ]
  },
  {
   "attachments": {},
   "cell_type": "markdown",
   "metadata": {},
   "source": [
    "Give an example of a Python code fragment that attempts to write an element to a list based on an index that may be out of bounds. If that index\n",
    "is out of bounds, the program should catch the exception that results, and\n",
    "print the following error message:\n",
    "“Don’t try buffer overflow attacks in Python!”"
   ]
  },
  {
   "cell_type": "code",
   "execution_count": 3,
   "metadata": {},
   "outputs": [
    {
     "name": "stdout",
     "output_type": "stream",
     "text": [
      "Don't try buffer overflow attacks in Python\n"
     ]
    }
   ],
   "source": [
    "#C-1.23\n",
    "\n",
    "list = [1, 2, 3, 4]\n",
    "\n",
    "try:\n",
    "    list[4] = 5\n",
    "except IndexError:\n",
    "    print(\"Don't try buffer overflow attacks in Python\")\n"
   ]
  },
  {
   "attachments": {},
   "cell_type": "markdown",
   "metadata": {},
   "source": [
    "Write a short Python function that counts the number of vowels in a given\n",
    "character string."
   ]
  },
  {
   "cell_type": "code",
   "execution_count": 4,
   "metadata": {},
   "outputs": [
    {
     "name": "stdout",
     "output_type": "stream",
     "text": [
      "3\n"
     ]
    }
   ],
   "source": [
    "#C-1.24\n",
    "\n",
    "def count_vowels(string):\n",
    "    vowels = 'aeiou'  \n",
    "    count = 0  \n",
    "    for char in string:\n",
    "        if char in vowels:\n",
    "            count += 1  \n",
    "    return count\n",
    "\n",
    "\n",
    "print(count_vowels('hello world')) "
   ]
  },
  {
   "attachments": {},
   "cell_type": "markdown",
   "metadata": {},
   "source": [
    "Write a short Python function that takes a string s, representing a sentence,\n",
    "and returns a copy of the string with all punctuation removed. For exam\u0002ple, if given the string \"Let s try, Mike.\", this function would return\n",
    "\"Lets try Mike\"."
   ]
  },
  {
   "cell_type": "code",
   "execution_count": 5,
   "metadata": {},
   "outputs": [
    {
     "name": "stdout",
     "output_type": "stream",
     "text": [
      "Lets try Mike\n"
     ]
    }
   ],
   "source": [
    "#C-1.25\n",
    "def remove_punctuation(s):\n",
    "    punctuations = '''!()-[]{};:'\"\\,<>./?@#$%^&*_~'''\n",
    "    result = \"\"\n",
    "\n",
    "    for char in s:\n",
    "        if char not in punctuations:\n",
    "            result += char\n",
    "    return result\n",
    "\n",
    "print(remove_punctuation(\"Let's try, Mike.\"))\n"
   ]
  },
  {
   "attachments": {},
   "cell_type": "markdown",
   "metadata": {},
   "source": [
    "Write a short program that takes as input three integers, a, b, and c, from\n",
    "the console and determines if they can be used in a correct arithmetic\n",
    "formula (in the given order), like “a+b = c,” “a = b−c,” or “a ∗ b = c.”"
   ]
  },
  {
   "cell_type": "code",
   "execution_count": 7,
   "metadata": {},
   "outputs": [
    {
     "name": "stdout",
     "output_type": "stream",
     "text": [
      "The integers can be used in a correct arithmetic formula.\n"
     ]
    }
   ],
   "source": [
    "#C-1.26\n",
    "a = int(input(\"Enter the first integer: \"))\n",
    "b = int(input(\"Enter the second integer: \"))\n",
    "c = int(input(\"Enter the third integer: \"))\n",
    "\n",
    "if (a + b == c) or (a == b - c) or (a * b == c):\n",
    "    print(\"The integers can be used in a correct arithmetic formula.\")\n",
    "else:\n",
    "    print(\"The integers cannot be used in a correct arithmetic formula.\")"
   ]
  },
  {
   "attachments": {},
   "cell_type": "markdown",
   "metadata": {},
   "source": [
    "In Section 1.8, we provided three different implementations of a generator\n",
    "that computes factors of a given integer. The third of those implementations, from page 41, was the most efficient, but we noted that it did not\n",
    "yield the factors in increasing order. Modify the generator so that it reports\n",
    "factors in increasing order, while maintaining its general performance advantages"
   ]
  },
  {
   "cell_type": "code",
   "execution_count": 12,
   "metadata": {},
   "outputs": [
    {
     "data": {
      "text/plain": [
       "<generator object factors at 0x000002945A3E4430>"
      ]
     },
     "execution_count": 12,
     "metadata": {},
     "output_type": "execute_result"
    }
   ],
   "source": [
    "#C-1.27\n",
    "def factors(n):\n",
    "    k = 1\n",
    "    while k * k < n:\n",
    "        if n % k == 0:\n",
    "            yield int(k)\n",
    "            yield int(n // k)\n",
    "        k += 1\n",
    "    if k * k == n:\n",
    "        yield int(k)\n",
    "\n",
    "factors(50)"
   ]
  },
  {
   "attachments": {},
   "cell_type": "markdown",
   "metadata": {},
   "source": [
    "Give an implementation of a function named norm such that norm(v, p) returns the p-norm\n",
    "value of v and norm(v) returns the Euclidean norm of v. You may assume\n",
    "that v is a list of numbers"
   ]
  },
  {
   "cell_type": "code",
   "execution_count": 20,
   "metadata": {},
   "outputs": [
    {
     "name": "stdout",
     "output_type": "stream",
     "text": [
      "5.477225575051661\n"
     ]
    }
   ],
   "source": [
    "#C-1.28\n",
    "import math\n",
    "v = input(\"Enter list of nums: \").split()\n",
    "v = [int(i) for i in v]\n",
    "p = int(input(\"Enter p value to get p-norm\"))\n",
    "s = sum([i**p for i in v])\n",
    "print(s**(1/p))\n"
   ]
  }
 ],
 "metadata": {
  "kernelspec": {
   "display_name": "Python 3",
   "language": "python",
   "name": "python3"
  },
  "language_info": {
   "codemirror_mode": {
    "name": "ipython",
    "version": 3
   },
   "file_extension": ".py",
   "mimetype": "text/x-python",
   "name": "python",
   "nbconvert_exporter": "python",
   "pygments_lexer": "ipython3",
   "version": "3.9.6"
  },
  "orig_nbformat": 4,
  "vscode": {
   "interpreter": {
    "hash": "33ac0b13241ddba039f67fdc377e8fb84cfad53f7332539f1bccc78a3e0eadda"
   }
  }
 },
 "nbformat": 4,
 "nbformat_minor": 2
}
