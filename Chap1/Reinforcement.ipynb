{
 "cells": [
  {
   "attachments": {},
   "cell_type": "markdown",
   "metadata": {},
   "source": [
    "Write a short Python function, is multiple(n, m), that takes two integer\n",
    "values and returns True if n is a multiple of m, that is, n = mi for some\n",
    "integer i, and False otherwise."
   ]
  },
  {
   "cell_type": "code",
   "execution_count": 1,
   "metadata": {},
   "outputs": [
    {
     "name": "stdout",
     "output_type": "stream",
     "text": [
      "True\n"
     ]
    }
   ],
   "source": [
    "#R-1.1\n",
    "def is_mult(n, m):\n",
    "    return True if m % n == 0 else False\n",
    "\n",
    "n, m = map(int, input(\"Enter n , m : \").split())\n",
    "print(is_mult(n, m))"
   ]
  },
  {
   "attachments": {},
   "cell_type": "markdown",
   "metadata": {},
   "source": [
    "Write a short Python function, is even(k), that takes an integer value and\n",
    "returns True if k is even, and False otherwise. However, your function\n",
    "cannot use the multiplication, modulo, or division operators."
   ]
  },
  {
   "cell_type": "code",
   "execution_count": 3,
   "metadata": {},
   "outputs": [
    {
     "name": "stdout",
     "output_type": "stream",
     "text": [
      "True\n"
     ]
    }
   ],
   "source": [
    "#R-1.2\n",
    "def iseven(n):\n",
    "    return True if n[-1] in ['0','2','4','6','8'] else False\n",
    "\n",
    "n=input(\"Enter a number to check even or odd! \")\n",
    "print(iseven(n))"
   ]
  },
  {
   "attachments": {},
   "cell_type": "markdown",
   "metadata": {},
   "source": [
    "Write a short Python function, minmax(data), that takes a sequence of\n",
    "one or more numbers, and returns the smallest and largest numbers, in the\n",
    "form of a tuple of length two. Do not use the built-in functions min or\n",
    "max in implementing your solution."
   ]
  },
  {
   "cell_type": "code",
   "execution_count": 4,
   "metadata": {},
   "outputs": [
    {
     "name": "stdout",
     "output_type": "stream",
     "text": [
      "(1, 7)\n"
     ]
    }
   ],
   "source": [
    "#R-1.3\n",
    "\n",
    "def minmax(l):\n",
    "    return (l[0],l[-1])\n",
    "\n",
    "l=list(map(int,input(\"Enter a sequence of nums: \\n\").split()))\n",
    "print(minmax(sorted(l)))"
   ]
  },
  {
   "attachments": {},
   "cell_type": "markdown",
   "metadata": {},
   "source": [
    "Write a short Python function that takes a positive integer n and returns\n",
    "the sum of the squares of all the positive integers smaller than n."
   ]
  },
  {
   "cell_type": "code",
   "execution_count": 12,
   "metadata": {},
   "outputs": [
    {
     "name": "stdout",
     "output_type": "stream",
     "text": [
      "14\n"
     ]
    }
   ],
   "source": [
    "#R-1.4\n",
    "\n",
    "def sum_of_sqs(n):\n",
    "    sum = 0\n",
    "\n",
    "    while n > 0:\n",
    "        n -= 1  \n",
    "        sum += n**2\n",
    "    return sum\n",
    "\n",
    "number = int(input('Enter a positive integer: '))\n",
    "print(sum_of_sqs(number))\n"
   ]
  },
  {
   "attachments": {},
   "cell_type": "markdown",
   "metadata": {},
   "source": [
    "Give a single command that computes the sum from Exercise R-1.4, rely\u0002ing on Python’s comprehension syntax and the built-in sum functio"
   ]
  },
  {
   "cell_type": "code",
   "execution_count": 13,
   "metadata": {},
   "outputs": [
    {
     "name": "stdout",
     "output_type": "stream",
     "text": [
      "14\n"
     ]
    }
   ],
   "source": [
    "#R-1.5\n",
    "n=int(input(\"Enter n: \"))\n",
    "print(sum([i**2 for i in range(n)]))"
   ]
  },
  {
   "attachments": {},
   "cell_type": "markdown",
   "metadata": {},
   "source": [
    "Write a short Python function that takes a positive integer n and returns\n",
    "the sum of the squares of all the odd positive integers smaller than n."
   ]
  },
  {
   "cell_type": "code",
   "execution_count": 14,
   "metadata": {},
   "outputs": [
    {
     "name": "stdout",
     "output_type": "stream",
     "text": [
      "10\n"
     ]
    }
   ],
   "source": [
    "#R-1.6\n",
    "n = int(input(\"Enter n: \"))\n",
    "print(sum([i**2 for i in range(n) if i%2!=0]))"
   ]
  },
  {
   "attachments": {},
   "cell_type": "markdown",
   "metadata": {},
   "source": [
    "Give a single command that computes the sum from Exercise R-1.6, relying on Python’s comprehension syntax and the built-in sum function."
   ]
  },
  {
   "cell_type": "code",
   "execution_count": null,
   "metadata": {},
   "outputs": [],
   "source": [
    "#R-1.7\n",
    "n = int(input(\"Enter n: \"))\n",
    "print(sum([i**2 for i in range(n) if i % 2 != 0]))\n"
   ]
  },
  {
   "attachments": {},
   "cell_type": "markdown",
   "metadata": {},
   "source": [
    "Python allows negative integers to be used as indices into a sequence,\n",
    "such as a string. If string s has length n, and expression s[k] is used for\n",
    "index −n ≤ k < 0, what is the equivalent index j ≥ 0 such that s[j] references\n",
    "the same element?"
   ]
  },
  {
   "cell_type": "code",
   "execution_count": 15,
   "metadata": {},
   "outputs": [
    {
     "name": "stdout",
     "output_type": "stream",
     "text": [
      "n[k]:  4\n",
      "n[j]:  4\n"
     ]
    }
   ],
   "source": [
    "#R-1.8\n",
    "n = [1, 2, 3, 4, 5]\n",
    "k = -2\n",
    "print('n[k]: ', n[k])\n",
    "\n",
    "j = k + len(n)\n",
    "print('n[j]: ', n[j])\n"
   ]
  },
  {
   "attachments": {},
   "cell_type": "markdown",
   "metadata": {},
   "source": [
    "What parameters should be sent to the range constructor, to produce a\n",
    "range with values 50, 60, 70, 80?"
   ]
  },
  {
   "cell_type": "code",
   "execution_count": 18,
   "metadata": {},
   "outputs": [
    {
     "name": "stdout",
     "output_type": "stream",
     "text": [
      "50 60 70 80\n"
     ]
    }
   ],
   "source": [
    "#R-1.9\n",
    "print(*range(50,81,10))\n"
   ]
  },
  {
   "attachments": {},
   "cell_type": "markdown",
   "metadata": {},
   "source": [
    "What parameters should be sent to the range constructor, to produce a\n",
    "range with values 8, 6, 4, 2, 0, −2, −4, −6, −8?"
   ]
  },
  {
   "cell_type": "code",
   "execution_count": 20,
   "metadata": {},
   "outputs": [
    {
     "name": "stdout",
     "output_type": "stream",
     "text": [
      "8 6 4 2 0 -2 -4 -6 -8\n"
     ]
    }
   ],
   "source": [
    "#R-1.10\n",
    "print(*range(8,-9,-2))\n"
   ]
  },
  {
   "attachments": {},
   "cell_type": "markdown",
   "metadata": {},
   "source": [
    "Demonstrate how to use Python’s list comprehension syntax to produce\n",
    "the list [1, 2, 4, 8, 16, 32, 64, 128, 256]."
   ]
  },
  {
   "cell_type": "code",
   "execution_count": 21,
   "metadata": {},
   "outputs": [
    {
     "name": "stdout",
     "output_type": "stream",
     "text": [
      "1 2 4 8 16 32 64 128 256\n"
     ]
    }
   ],
   "source": [
    "#R-1.11\n",
    "print(*[2**i for i in range(9)])\n"
   ]
  },
  {
   "attachments": {},
   "cell_type": "markdown",
   "metadata": {},
   "source": [
    "Python’s random module includes a function choice(data) that returns a\n",
    "random element from a non-empty sequence. The random module includes a more basic function randrange, with parameterization similar to\n",
    "the built-in range function, that return a random choice from the given\n",
    "range. Using only the randrange function, implement your own version\n",
    "of the choice function"
   ]
  },
  {
   "cell_type": "code",
   "execution_count": 50,
   "metadata": {},
   "outputs": [
    {
     "name": "stdout",
     "output_type": "stream",
     "text": [
      "25\n"
     ]
    }
   ],
   "source": [
    "from random import randrange\n",
    "\n",
    "\n",
    "def gmnumr():\n",
    "    return randrange(5, 26, 5)\n",
    "    # same as choice(5, 10, 15, 20, 25)\n",
    "\n",
    "print(gmnumr())\n"
   ]
  }
 ],
 "metadata": {
  "kernelspec": {
   "display_name": "Python 3",
   "language": "python",
   "name": "python3"
  },
  "language_info": {
   "codemirror_mode": {
    "name": "ipython",
    "version": 3
   },
   "file_extension": ".py",
   "mimetype": "text/x-python",
   "name": "python",
   "nbconvert_exporter": "python",
   "pygments_lexer": "ipython3",
   "version": "3.9.6"
  },
  "orig_nbformat": 4,
  "vscode": {
   "interpreter": {
    "hash": "33ac0b13241ddba039f67fdc377e8fb84cfad53f7332539f1bccc78a3e0eadda"
   }
  }
 },
 "nbformat": 4,
 "nbformat_minor": 2
}
