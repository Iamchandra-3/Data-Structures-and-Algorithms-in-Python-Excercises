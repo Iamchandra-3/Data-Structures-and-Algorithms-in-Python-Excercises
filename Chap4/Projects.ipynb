{
 "cells": [
  {
   "attachments": {},
   "cell_type": "markdown",
   "metadata": {},
   "source": [
    "P-4.23 Implement a recursive function with signature find(path, filename) that\n",
    "reports all entries of the file system rooted at the given path having the\n",
    "given file name."
   ]
  },
  {
   "cell_type": "code",
   "execution_count": null,
   "metadata": {},
   "outputs": [],
   "source": [
    "import os\n",
    "def find(path, filename):\n",
    "    if not os.path.exists(path):\n",
    "        return\n",
    "\n",
    "    entries = os.listdir(path)\n",
    "    for entry in entries:\n",
    "        full_path = os.path.join(path, entry)\n",
    "        if os.path.isdir(full_path):\n",
    "            find(full_path, filename)\n",
    "        elif entry == filename:\n",
    "            print(full_path)\n",
    "\n",
    "\n",
    "# find('/path/to/root', 'filename')"
   ]
  },
  {
   "attachments": {},
   "cell_type": "markdown",
   "metadata": {},
   "source": [
    "P-4.24 Write a program for solving summation puzzles by enumerating and testing all possible configurations. Using your program, solve the three puzzles given in Section 4.4.3."
   ]
  },
  {
   "cell_type": "code",
   "execution_count": null,
   "metadata": {},
   "outputs": [],
   "source": [
    "def summation_puzzle(num1, num2, result):\n",
    "  for i in range(10):\n",
    "    for j in range(10):\n",
    "      if (num1[0] * 10 + num1[1] + num2[0] * 10 + num2[1] == result[0] * 10 + result[1]):\n",
    "        return [i, j]\n",
    "  return False\n",
    "\n",
    "\n",
    "# Test 1\n",
    "num1 = [7, 0]\n",
    "num2 = [2, 8]\n",
    "result = [9, 8]\n",
    "\n",
    "ans = summation_puzzle(num1, num2, result)\n",
    "if ans:\n",
    "  print(\"The numbers {} + {} = {}\".format(num1, num2, result))\n",
    "  print(\"The solution is: {}\".format(ans))\n",
    "else:\n",
    "  print(\"No solution found\")\n",
    "\n",
    "# Test 2\n",
    "num1 = [4, 6]\n",
    "num2 = [3, 7]\n",
    "result = [7, 3]\n",
    "\n",
    "ans = summation_puzzle(num1, num2, result)\n",
    "if ans:\n",
    "  print(\"The numbers {} + {} = {}\".format(num1, num2, result))\n",
    "  print(\"The solution is: {}\".format(ans))\n",
    "else:\n",
    "  print(\"No solution found\")\n",
    "\n",
    "# Test 3\n",
    "num1 = [8, 4]\n",
    "num2 = [2, 5]\n",
    "result = [1, 0]\n",
    "\n",
    "ans = summation_puzzle(num1, num2, result)\n",
    "if ans:\n",
    "  print(\"The numbers {} + {} = {}\".format(num1, num2, result))\n",
    "  print(\"The solution is: {}\".format(ans))\n",
    "else:\n",
    "  print(\"No solution found\")\n"
   ]
  },
  {
   "attachments": {},
   "cell_type": "markdown",
   "metadata": {},
   "source": [
    "P-4.25 Provide a nonrecursive implementation of the draw interval function for\n",
    "the English ruler project of Section 4.1.2. There should be precisely 2^c−1\n",
    "lines of output if c represents the length of the center tick. If incrementing\n",
    "a counter from 0 to 2^c −2, the number of dashes for each tick line should\n",
    "be exactly one more than the number of consecutive 1’s at the end of the\n",
    "binary representation of the counter.\n"
   ]
  },
  {
   "cell_type": "code",
   "execution_count": null,
   "metadata": {},
   "outputs": [],
   "source": [
    "def draw_interval(c):\n",
    "  for i in range(2 ** c - 1):\n",
    "    num_dashes = bin(i).count('1')\n",
    "    print('-' * num_dashes + ' ' + '|' + ' ' + '-' * num_dashes)\n",
    "\n",
    "\n",
    "draw_interval(3)\n"
   ]
  },
  {
   "attachments": {},
   "cell_type": "markdown",
   "metadata": {},
   "source": [
    "P-4.26 Write a program that can solve instances of the Tower of Hanoi problem\n",
    "(from Exercise C-4.14)\n"
   ]
  },
  {
   "cell_type": "code",
   "execution_count": null,
   "metadata": {},
   "outputs": [],
   "source": [
    "import sys\n",
    "\n",
    "# Global variables to keep track of the tower of Hanoi\n",
    "towers = [[], [], []]\n",
    "\n",
    "# Function to print out the current state of the towers\n",
    "\n",
    "\n",
    "def print_towers():\n",
    "    for tower in towers:\n",
    "        print(tower)\n",
    "\n",
    "# Function to move the disk from one tower to the other\n",
    "\n",
    "\n",
    "def move_disk(from_tower, to_tower):\n",
    "    towers[to_tower].append(towers[from_tower].pop())\n",
    "\n",
    "# Function to solve the Tower of Hanoi\n",
    "\n",
    "\n",
    "def solve_tower_of_hanoi(num_disks, from_tower=0, to_tower=2):\n",
    "    # Base case: if number of disks is 1, move it directly to the target tower\n",
    "    if num_disks == 1:\n",
    "        move_disk(from_tower, to_tower)\n",
    "    else:\n",
    "        # Move n-1 disks to the spare tower\n",
    "        spare_tower = 3 - from_tower - to_tower\n",
    "        solve_tower_of_hanoi(num_disks - 1, from_tower, spare_tower)\n",
    "        # Move the last disk to the target tower\n",
    "        move_disk(from_tower, to_tower)\n",
    "        # Move the n-1 disks from the spare tower to the target tower\n",
    "        solve_tower_of_hanoi(num_disks - 1, spare_tower, to_tower)\n",
    "\n",
    "\n",
    "# Main program\n",
    "if __name__ == '__main__':\n",
    "    # Check for valid input\n",
    "    if len(sys.argv) != 2:\n",
    "        print('Usage: tower_of_hanoi.py <num_disks>')\n",
    "        sys.exit(1)\n",
    "\n",
    "    # Parse input\n",
    "    num_disks = int(sys.argv[1])\n",
    "\n",
    "    # Populate the first tower\n",
    "    for i in range(num_disks, 0, -1):\n",
    "        towers[0].append(i)\n",
    "\n",
    "    # Print initial towers\n",
    "    print('Initial state:')\n",
    "    print_towers()\n",
    "\n",
    "    # Solve the Tower of Hanoi\n",
    "    solve_tower_of_hanoi(num_disks)\n",
    "\n",
    "    # Print final state\n",
    "    print('Final state:')\n",
    "    print_towers()"
   ]
  },
  {
   "attachments": {},
   "cell_type": "markdown",
   "metadata": {},
   "source": [
    "P-4.27 Python’s os module provides a function with signature walk(path) that\n",
    "is a generator yielding the tuple (dirpath, dirnames, filenames) for each\n",
    "subdirectory of the directory identified by string path, such that string\n",
    "dirpath is the full path to the subdirectory, dirnames is a list of the names\n",
    "of the subdirectories within dirpath, and filenames is a list of the names\n",
    "of non-directory entries of dirpath. For example, when visiting the cs016\n",
    "subdirectory of the file system shown in Figure 4.6, the walk would yield\n",
    "( /user/rt/courses/cs016 , [ homeworks , programs ], [ grades ]).\n",
    "Give your own implementation of such a walk function."
   ]
  },
  {
   "cell_type": "code",
   "execution_count": null,
   "metadata": {},
   "outputs": [],
   "source": [
    "def walk(path):\n",
    "    for root, dirs, files in os.walk(path):\n",
    "        yield (root, dirs, files)"
   ]
  }
 ],
 "metadata": {
  "kernelspec": {
   "display_name": "Python 3",
   "language": "python",
   "name": "python3"
  },
  "language_info": {
   "codemirror_mode": {
    "name": "ipython",
    "version": 3
   },
   "file_extension": ".py",
   "mimetype": "text/x-python",
   "name": "python",
   "nbconvert_exporter": "python",
   "pygments_lexer": "ipython3",
   "version": "3.9.6"
  },
  "orig_nbformat": 4,
  "vscode": {
   "interpreter": {
    "hash": "33ac0b13241ddba039f67fdc377e8fb84cfad53f7332539f1bccc78a3e0eadda"
   }
  }
 },
 "nbformat": 4,
 "nbformat_minor": 2
}
