{
 "cells": [
  {
   "attachments": {},
   "cell_type": "markdown",
   "metadata": {},
   "source": [
    "R-4.1 Describe a recursive algorithm for finding the maximum element in a sequence, S, of n elements. What is your running time and space usage."
   ]
  },
  {
   "cell_type": "code",
   "execution_count": 3,
   "metadata": {},
   "outputs": [
    {
     "name": "stdout",
     "output_type": "stream",
     "text": [
      "Maximum element in the array is  6\n"
     ]
    }
   ],
   "source": [
    "#ALGORITHM\n",
    "\n",
    "\"\"\"The recursive algorithm for finding the maximum element in a sequence of n elements is as follows:\n",
    "\n",
    "1. If n = 1, return the element in S.\n",
    "2. Otherwise, recursively call the algorithm on the sub-sequence of S consisting of the first n-1 elements.\n",
    "3. Let the maximum element of the sub-sequence be denoted as max_sub.\n",
    "4. Compare max_sub with the last element in the sequence, S[n-1].\n",
    "5. Return the maximum between max_sub and S[n-1].\n",
    "\n",
    "The running time of this algorithm is O(n), and the space usage is O(n).\"\"\"\n",
    "\n",
    "#PYTHON IMPLEMENTATION\n",
    "\n",
    "\n",
    "def findMaxElement(arr, n):\n",
    "\n",
    "    # Base Case\n",
    "    if n == 1:\n",
    "        return arr[0]\n",
    "\n",
    "    # Recursively calling the same function\n",
    "    # for rest of the array\n",
    "    m = findMaxElement(arr[0:n-1], n-1)\n",
    "\n",
    "    # compare the maximum of the subarray\n",
    "    # with the last element of the array\n",
    "    if m > arr[n-1]:\n",
    "        return m\n",
    "    else:\n",
    "        return arr[n-1]\n",
    "\n",
    "\n",
    "# Driver Code\n",
    "arr = [1, 5, 2, 6, 4, 3]\n",
    "n = len(arr)\n",
    "print(\"Maximum element in the array is \",\n",
    "      findMaxElement(arr, n))\n"
   ]
  },
  {
   "attachments": {},
   "cell_type": "markdown",
   "metadata": {},
   "source": [
    "R-4.2 Draw the recursion trace for the computation of power(2,5), using the\n",
    "traditional function implemented in Code Fragment 4.11."
   ]
  },
  {
   "cell_type": "code",
   "execution_count": null,
   "metadata": {},
   "outputs": [],
   "source": [
    "\"\"\" \n",
    "power(2, 5) \n",
    "|           \n",
    "|---power(2, 4)\n",
    "|    |      \n",
    "|    |---power(2, 3)\n",
    "|    |    |      \n",
    "|    |    |---power(2, 2)\n",
    "|    |    |    |      \n",
    "|    |    |    |---power(2, 1)\n",
    "|    |    |    |    |      \n",
    "|    |    |    |    |---power(2, 0)\n",
    "|    |    |    |    |    | \n",
    "|    |    |    |    |    |---return 1\n",
    "|    |    |    |    | \n",
    "|    |    |    |    |---return 2*1 = 2\n",
    "|    |    |    |\n",
    "|    |    |    |---return 2*2 = 4\n",
    "|    |    |\n",
    "|    |    |---return 2*4 = 8\n",
    "|    |\n",
    "|    |---return 2*8 = 16\n",
    "|\n",
    "|---return 16\n",
    "\n",
    "\"\"\"\n"
   ]
  },
  {
   "attachments": {},
   "cell_type": "markdown",
   "metadata": {},
   "source": [
    "R-4.3 Draw the recursion trace for the computation of power(2,18), using the\n",
    "repeated squaring algorithm, as implemented in Code Fragment 4.12."
   ]
  },
  {
   "cell_type": "code",
   "execution_count": null,
   "metadata": {},
   "outputs": [],
   "source": [
    "\n",
    "\"\"\"\n",
    "power(2,18)\n",
    "  ├── partial = power(2, 9)\n",
    "    └── partial = power(2, 4)\n",
    "      ├── partial = power(2, 2)\n",
    "        └── partial = power(2, 1)\n",
    "          └── return 1\n",
    "      ├── result = partial * partial = 1 * 1 = 1\n",
    "      └── return 1\n",
    "    ├── result = partial * partial = 1 * 1 = 1\n",
    "    └── return 1\n",
    "  ├── result = partial * partial = 1 * 1 = 1\n",
    "  └── return 1\n",
    "\n",
    "\"\"\"\n"
   ]
  },
  {
   "attachments": {},
   "cell_type": "markdown",
   "metadata": {},
   "source": [
    "R-4.4 Draw the recursion trace for the execution of function reverse(S, 0, 5)\n",
    "(Code Fragment 4.10) on S = [4, 3, 6, 2, 6]."
   ]
  },
  {
   "cell_type": "code",
   "execution_count": null,
   "metadata": {},
   "outputs": [],
   "source": [
    "\"\"\"\n",
    "                    reverse(S, 0, 5)\n",
    "                    start < stop - 1? Yes\n",
    "                    S[0], S[4] = S[4], S[0]\n",
    "                    S = [6, 3, 6, 2, 4]\n",
    "                    reverse(S, 1, 4)\n",
    "                        start < stop - 1? Yes\n",
    "                        S[1], S[3] = S[3], S[1]\n",
    "                        S = [6, 2, 6, 3, 4]\n",
    "                        reverse(S, 2, 3)\n",
    "                            start < stop - 1? Yes\n",
    "                            S[2], S[2] = S[2], S[2]\n",
    "                            S = [6, 2, 6, 3, 4]\n",
    "                            reverse(S, 3, 2)\n",
    "                                start < stop - 1? No\n",
    "                                Return\n",
    "\n",
    "\"\"\"\n"
   ]
  },
  {
   "attachments": {},
   "cell_type": "markdown",
   "metadata": {},
   "source": [
    "R-4.5 Draw the recursion trace for the execution of function PuzzleSolve(3,S,U)\n",
    "(Code Fragment 4.14), where S is empty and U = {a,b,c,d}."
   ]
  },
  {
   "cell_type": "code",
   "execution_count": null,
   "metadata": {},
   "outputs": [],
   "source": [
    "\"\"\" PuzzleSolve(3, S, {a,b,c,d})\n",
    "  PuzzleSolve(2, Sa, {b,c,d})\n",
    "    PuzzleSolve(1, Sab, {c,d})\n",
    "      PuzzleSolve(0, Sabc, {d})\n",
    "        Test whether Sabc is a configuration that solves the puzzle\n",
    "        Return “Solution found: Sabc”\n",
    "      Remove c from the end of Sab\n",
    "      Add c back to {c,d}\n",
    "    Remove b from the end of Sa\n",
    "    Add b back to {b,c,d}\n",
    "  Remove a from the end of S\n",
    "  Add a back to {a,b,c,d}\n",
    "PuzzleSolve(2, Sc, {a,b,d})\n",
    "  PuzzleSolve(1, Sca, {b,d})\n",
    "    PuzzleSolve(0, Scab, {d})\n",
    "      Test whether Scab is a configuration that solves the puzzle\n",
    "      Return “Solution found: Scab”\n",
    "    Remove b from the end of Sca\n",
    "    Add b back to {b,d}\n",
    "  Remove c from the end of Sc\n",
    "  Add c back to {a,b,c,d}\n",
    "PuzzleSolve(2, Sd, {a,b,c})\n",
    "  PuzzleSolve(1, Sda, {b,c})\n",
    "    PuzzleSolve(0, Sdab, {c})\n",
    "      Test whether Sdab is a configuration that solves the puzzle\n",
    "      Return “Solution found: Sdab”\n",
    "    Remove b from the end of Sda\n",
    "    Add b back to {b,c}\n",
    "  Remove d from the end of Sd\n",
    "  Add d back to {a,b,c,d}\n",
    "  \"\"\"\n"
   ]
  },
  {
   "attachments": {},
   "cell_type": "markdown",
   "metadata": {},
   "source": [
    "R-4.6 Describe a recursive function for computing the nth Harmonic number,\n",
    "Hn = ∑n i=1  1/i.\n"
   ]
  },
  {
   "cell_type": "code",
   "execution_count": 4,
   "metadata": {},
   "outputs": [
    {
     "name": "stdout",
     "output_type": "stream",
     "text": [
      "2.283333333333333\n"
     ]
    }
   ],
   "source": [
    "def harmonic_number(n):\n",
    "    if n < 2:\n",
    "        return 1\n",
    "    else:\n",
    "        return 1 / n + (harmonic_number(n - 1))\n",
    "\n",
    "\n",
    "# Driver code\n",
    "n = 5\n",
    "print(harmonic_number(n))\n"
   ]
  },
  {
   "attachments": {},
   "cell_type": "markdown",
   "metadata": {},
   "source": [
    "R-4.7 Describe a recursive function for converting a string of digits into the integer it represents. For example, 13531 represents the integer 13,531."
   ]
  },
  {
   "cell_type": "code",
   "execution_count": 6,
   "metadata": {},
   "outputs": [
    {
     "name": "stdout",
     "output_type": "stream",
     "text": [
      "13531\n",
      "<class 'int'>\n"
     ]
    }
   ],
   "source": [
    "def string_to_int(string):\n",
    "    \"\"\"\n",
    "    A recursive function for converting a string of digits into the integer it represents.\n",
    "    :param string: a string of digits\n",
    "    :return: the integer the string represents\n",
    "    \"\"\"\n",
    "    # base case:\n",
    "    if not string:\n",
    "        return 0\n",
    "\n",
    "    # recursive case:\n",
    "    else:\n",
    "        return int(string[0]) * 10**(len(string)-1) + string_to_int(string[1:])\n",
    "\n",
    "k=string_to_int('13531')\n",
    "print(k)\n",
    "print(type(k))"
   ]
  },
  {
   "attachments": {},
   "cell_type": "markdown",
   "metadata": {},
   "source": [
    "R-4.8 Isabel has an interesting way of summing up the values in a sequence A of\n",
    "n integers, where n is a power of two. She creates a new sequence B of half\n",
    "the size of A and sets B[i] = A[2i]+A[2i+1], for i = 0,1,...,(n/2)−1. If\n",
    "B has size 1, then she outputs B[0]. Otherwise, she replaces A with B, and\n",
    "repeats the process. What is the running time of her algorithm?"
   ]
  },
  {
   "cell_type": "code",
   "execution_count": null,
   "metadata": {},
   "outputs": [],
   "source": [
    "\"\"\"\n",
    "The running time of Isabel's algorithm is O(log(n)). \n",
    "This is because the size of the array is halved each time, making the number of iterations logarithmic in the size of A.\n",
    " \"\"\"\n"
   ]
  }
 ],
 "metadata": {
  "kernelspec": {
   "display_name": "Python 3",
   "language": "python",
   "name": "python3"
  },
  "language_info": {
   "codemirror_mode": {
    "name": "ipython",
    "version": 3
   },
   "file_extension": ".py",
   "mimetype": "text/x-python",
   "name": "python",
   "nbconvert_exporter": "python",
   "pygments_lexer": "ipython3",
   "version": "3.9.6"
  },
  "orig_nbformat": 4,
  "vscode": {
   "interpreter": {
    "hash": "33ac0b13241ddba039f67fdc377e8fb84cfad53f7332539f1bccc78a3e0eadda"
   }
  }
 },
 "nbformat": 4,
 "nbformat_minor": 2
}
