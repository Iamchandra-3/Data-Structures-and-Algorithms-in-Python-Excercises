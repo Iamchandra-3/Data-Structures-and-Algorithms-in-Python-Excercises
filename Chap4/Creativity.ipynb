{
 "cells": [
  {
   "attachments": {},
   "cell_type": "markdown",
   "metadata": {},
   "source": [
    "C-4.9 Write a short recursive Python function that finds the minimum and maximum values in a sequence without using any loops."
   ]
  },
  {
   "cell_type": "code",
   "execution_count": 1,
   "metadata": {},
   "outputs": [
    {
     "name": "stdout",
     "output_type": "stream",
     "text": [
      "(3, 9)\n"
     ]
    }
   ],
   "source": [
    "def minMax(seq):\n",
    "    if len(seq) == 1:\n",
    "        return (seq[0], seq[0])\n",
    "\n",
    "    else:\n",
    "        m = minMax(seq[1:])\n",
    "        return (min(seq[0], m[0]), max(seq[0], m[1]))\n",
    "\n",
    "\n",
    "#Test\n",
    "test = [3, 5, 9, 6, 8]\n",
    "print(minMax(test))  \n"
   ]
  },
  {
   "attachments": {},
   "cell_type": "markdown",
   "metadata": {},
   "source": [
    "C-4.10 Describe a recursive algorithm to compute the integer part of the base-two\n",
    "logarithm of n using only addition and integer division.\n"
   ]
  },
  {
   "cell_type": "code",
   "execution_count": null,
   "metadata": {},
   "outputs": [],
   "source": [
    "\"\"\"\n",
    "// This algorithm will take in a number n and return the integer part of the base-two logarithm of n\n",
    "\n",
    "// Step 1: Check if n is equal to 1. If it is , return 0.\n",
    "// Step 2: Divide n by 2.\n",
    "// Step 3: Call the algorithm recursively on the new n.\n",
    "// Step 4: Return 1 + the result of the recursive call.\n",
    "\n",
    "\"\"\"\n",
    "# Implementation using python\n",
    "\n",
    "\n",
    "def compute_base_two_logarithm(n):\n",
    "    if n == 1:\n",
    "        return 0\n",
    "    else:\n",
    "        return 1 + compute_base_two_logarithm(n // 2)\n"
   ]
  },
  {
   "attachments": {},
   "cell_type": "markdown",
   "metadata": {},
   "source": [
    "C-4.11 Describe an efficient recursive function for solving the element uniqueness problem, which runs in time that is at most O(n2) in the worst case\n",
    "without using sorting."
   ]
  },
  {
   "cell_type": "code",
   "execution_count": 2,
   "metadata": {},
   "outputs": [
    {
     "name": "stdout",
     "output_type": "stream",
     "text": [
      "True\n"
     ]
    }
   ],
   "source": [
    "def is_unique(arr, start_index, end_index):\n",
    "    if start_index == end_index:\n",
    "        return True\n",
    "    elif arr[start_index] in arr[start_index+1:end_index]:\n",
    "        return False\n",
    "    else:\n",
    "        return is_unique(arr, start_index+1, end_index)\n",
    "\n",
    "\n",
    "arr = [1, 2, 3, 4, 5]\n",
    "print(is_unique(arr, 0, len(arr)))\n"
   ]
  },
  {
   "attachments": {},
   "cell_type": "markdown",
   "metadata": {},
   "source": [
    "C-4.12 Give a recursive algorithm to compute the product of two positive integers,\n",
    "m and n, using only addition and subtraction."
   ]
  },
  {
   "cell_type": "code",
   "execution_count": 3,
   "metadata": {},
   "outputs": [
    {
     "name": "stdout",
     "output_type": "stream",
     "text": [
      "6\n"
     ]
    }
   ],
   "source": [
    "\"\"\"\n",
    "//Input: two positive integers, m and n\n",
    "\n",
    "//Output: the product of m and n\n",
    "\n",
    "Algorithm:\n",
    "\n",
    "1. If n is 0, return 0.\n",
    "2. Otherwise, return m + product(m, n-1).\n",
    "\"\"\"\n",
    "# Implementation using python\n",
    "\n",
    "\n",
    "def product(m, n):\n",
    "    if n == 0:\n",
    "        return 0\n",
    "    else:\n",
    "        return m + product(m, n-1)\n",
    "\n",
    "print(product(2,3))\n"
   ]
  },
  {
   "attachments": {},
   "cell_type": "markdown",
   "metadata": {},
   "source": [
    "C-4.13 In Section 4.2 we prove by induction that the number of lines printed by\n",
    "a call to draw interval(c) is 2^c − 1. Another interesting question is how\n",
    "many dashes are printed during that process. Prove by induction that the\n",
    "number of dashes printed by draw interval(c) is 2^(c+1) −c−2"
   ]
  },
  {
   "cell_type": "code",
   "execution_count": null,
   "metadata": {},
   "outputs": [],
   "source": [
    "\"\"\"  Base Case: For c = 0, draw interval(0) prints 0 lines and 2^(0+1)-0-2 = 2-0-2 = 0 dashes.\n",
    "\n",
    "Inductive Step: Let k be any positive integer and assume that draw interval(k) prints 2^k-1 lines and 2^(k+1)-k-2 dashes. \n",
    "We need to prove that draw interval(k+1) prints 2^(k+1)-1 lines and 2^(k+2)-(k+1)-2 dashes.\n",
    "\n",
    "draw interval(k+1) prints 1 more line than draw interval(k) and an additional 2^(k+1)-1 dashes. \n",
    "Thus, draw interval(k+1) prints 2^(k+1)-1 lines and 2^(k+2)-(k+1)-2 dashes, as desired.\n",
    "\n",
    "\"\"\"\n"
   ]
  },
  {
   "attachments": {},
   "cell_type": "markdown",
   "metadata": {},
   "source": [
    "C-4.14 In the Towers of Hanoi puzzle, we are given a platform with three pegs, a,\n",
    "b, and c, sticking out of it. On peg a is a stack of n disks, each larger than\n",
    "the next, so that the smallest is on the top and the largest is on the bottom.\n",
    "The puzzle is to move all the disks from peg a to peg c, moving one disk\n",
    "at a time, so that we never place a larger disk on top of a smaller one.\n",
    "See Figure 4.15 for an example of the case n = 4. Describe a recursive\n",
    "algorithm for solving the Towers of Hanoi puzzle for arbitrary n. (Hint:\n",
    "Consider first the subproblem of moving all but the nth disk from peg a to\n",
    "another peg using the third as “temporary storage.”)"
   ]
  },
  {
   "cell_type": "code",
   "execution_count": 4,
   "metadata": {},
   "outputs": [
    {
     "name": "stdout",
     "output_type": "stream",
     "text": [
      "Move disk 1 from peg A to peg B\n",
      "Move disk 2 from peg A to peg C\n",
      "Move disk 1 from peg B to peg C\n",
      "Move disk 3 from peg A to peg B\n",
      "Move disk 1 from peg C to peg A\n",
      "Move disk 2 from peg C to peg B\n",
      "Move disk 1 from peg A to peg B\n",
      "Move disk 4 from peg A to peg C\n",
      "Move disk 1 from peg B to peg C\n",
      "Move disk 2 from peg B to peg A\n",
      "Move disk 1 from peg C to peg A\n",
      "Move disk 3 from peg B to peg C\n",
      "Move disk 1 from peg A to peg B\n",
      "Move disk 2 from peg A to peg C\n",
      "Move disk 1 from peg B to peg C\n"
     ]
    }
   ],
   "source": [
    "\"\"\" \n",
    "The algorithm for solving the Towers of Hanoi puzzle for n discs is as follows:\n",
    "\n",
    "1. Move all but the nth disk from peg a to another peg using the third as “temporary storage”.\n",
    "2. Move the nth disk from peg a to peg c.\n",
    "3. Move the disks from the temporary peg to peg c.\n",
    "\n",
    "Repeat these steps until all disks have been moved from peg a to peg c.\n",
    "\"\"\" \n",
    "\n",
    "# Implementation using python.\n",
    "\n",
    "\n",
    "def TowersOfHanoi(n, source, dest, temp):\n",
    "    if n == 1:\n",
    "        print(\"Move disk 1 from peg\", source, \"to peg\", dest)\n",
    "        return\n",
    "    TowersOfHanoi(n-1, source, temp, dest)\n",
    "    print(\"Move disk\", n, \"from peg\", source, \"to peg\", dest)\n",
    "    TowersOfHanoi(n-1, temp, dest, source)\n",
    "\n",
    "\n",
    "# Driver code\n",
    "n = 4\n",
    "TowersOfHanoi(n, 'A', 'C', 'B')\n"
   ]
  },
  {
   "attachments": {},
   "cell_type": "markdown",
   "metadata": {},
   "source": [
    "C-4.15 Write a recursive function that will output all the subsets of a set of n\n",
    "elements (without repeating any subsets)."
   ]
  },
  {
   "cell_type": "code",
   "execution_count": 5,
   "metadata": {},
   "outputs": [
    {
     "name": "stdout",
     "output_type": "stream",
     "text": [
      "[]\n",
      "[1]\n",
      "[2]\n",
      "[2, 1]\n",
      "[3]\n",
      "[3, 1]\n",
      "[3, 2]\n",
      "[3, 2, 1]\n"
     ]
    }
   ],
   "source": [
    "def subsets(elements, subset=[]):\n",
    "    if len(elements) == 0:\n",
    "        print(subset)\n",
    "    else:\n",
    "        first_element = elements.pop()\n",
    "        subsets(elements, subset)\n",
    "        subset.append(first_element)\n",
    "        subsets(elements, subset)\n",
    "        subset.pop()\n",
    "        elements.append(first_element)\n",
    "\n",
    "\n",
    "elements = [1, 2, 3]\n",
    "subsets(elements)\n"
   ]
  },
  {
   "cell_type": "markdown",
   "metadata": {},
   "source": [
    "C-4.16 Write a short recursive Python function that takes a character string s and\n",
    "outputs its reverse. For example, the reverse of pots & pans would be\n",
    "snap & stop .\n"
   ]
  },
  {
   "cell_type": "code",
   "execution_count": 6,
   "metadata": {},
   "outputs": [
    {
     "name": "stdout",
     "output_type": "stream",
     "text": [
      "snap&stop\n"
     ]
    }
   ],
   "source": [
    "def reverse_str(s):\n",
    "    if len(s) == 0:\n",
    "        return s\n",
    "    else:\n",
    "        return reverse_str(s[1:]) + s[0]\n",
    "\n",
    "\n",
    "print(reverse_str(\"pots&pans\"))"
   ]
  },
  {
   "attachments": {},
   "cell_type": "markdown",
   "metadata": {},
   "source": [
    "C-4.17 Write a short recursive Python function that determines if a string s is a\n",
    "palindrome, that is, it is equal to its reverse. For example, racecar and\n",
    "gohangasalamiimalasagnahog are palindromes."
   ]
  },
  {
   "cell_type": "code",
   "execution_count": 7,
   "metadata": {},
   "outputs": [
    {
     "name": "stdout",
     "output_type": "stream",
     "text": [
      "True\n",
      "True\n",
      "False\n"
     ]
    }
   ],
   "source": [
    "def is_palindrome(s):\n",
    "    if len(s) == 0 or len(s) == 1:\n",
    "        return True\n",
    "    else:\n",
    "        if s[0] == s[-1]:\n",
    "            return is_palindrome(s[1:-1])\n",
    "        else:\n",
    "            return False\n",
    "\n",
    "\n",
    "print(is_palindrome('racecar'))  # True\n",
    "print(is_palindrome('gohangasalamiimalasagnahog'))  # True\n",
    "print(is_palindrome('hello'))  # False\n"
   ]
  },
  {
   "attachments": {},
   "cell_type": "markdown",
   "metadata": {},
   "source": [
    "C-4.18 Use recursion to write a Python function for determining if a string s has\n",
    "more vowels than consonants."
   ]
  },
  {
   "cell_type": "code",
   "execution_count": null,
   "metadata": {},
   "outputs": [],
   "source": [
    "def moreVowels(s):\n",
    "    # Base case\n",
    "    if len(s) == 0:\n",
    "        return False\n",
    "\n",
    "    # Recursive case\n",
    "    vowels = ('a', 'e', 'i', 'o', 'u')\n",
    "    if s[0].lower() in vowels:\n",
    "        return True and moreVowels(s[1:])\n",
    "    else:\n",
    "        return False and moreVowels(s[1:])"
   ]
  },
  {
   "attachments": {},
   "cell_type": "markdown",
   "metadata": {},
   "source": [
    "C-4.19 Write a short recursive Python function that rearranges a sequence of integer values so that all the even values appear before all the odd val"
   ]
  },
  {
   "cell_type": "code",
   "execution_count": 8,
   "metadata": {},
   "outputs": [
    {
     "name": "stdout",
     "output_type": "stream",
     "text": [
      "[2, 4, 6, 8, 7, 5, 3, 1]\n"
     ]
    }
   ],
   "source": [
    "def rearrange(input_list):\n",
    "    if input_list == []:\n",
    "        return []\n",
    "    else:\n",
    "        head = input_list[0]\n",
    "        tail = input_list[1:]\n",
    "        if head % 2 == 0:\n",
    "            return [head] + rearrange(tail)\n",
    "        else:\n",
    "            return rearrange(tail) + [head]\n",
    "\n",
    "\n",
    "input_list = [1, 2, 3, 4, 5, 6, 7, 8]\n",
    "print(rearrange(input_list))\n"
   ]
  },
  {
   "attachments": {},
   "cell_type": "markdown",
   "metadata": {},
   "source": [
    "C-4.20 Given an unsorted sequence, S, of integers and an integer k, describe a\n",
    "recursive algorithm for rearranging the elements in S so that all elements\n",
    "less than or equal to k come before any elements larger than k. What is\n",
    "the running time of your algorithm on a sequence of n values?"
   ]
  },
  {
   "cell_type": "code",
   "execution_count": null,
   "metadata": {},
   "outputs": [],
   "source": [
    "\"\"\" The algorithm works by comparing each element in the sequence to the value of k. \n",
    "If the element is less than or equal to k, it is added to a new sequence. \n",
    "If the element is larger than k, it is added to the end of the new sequence. \n",
    "The algorithm then recursively calls itself on the remaining elements in the sequence and the same value of k. \n",
    "\n",
    "The running time of this algorithm is O(n).\n",
    "\"\"\"\n"
   ]
  },
  {
   "attachments": {},
   "cell_type": "markdown",
   "metadata": {},
   "source": [
    "C-4.21 Suppose you are given an n-element sequence, S, containing distinct integers that are listed in increasing order. Given a number k, describe a\n",
    "recursive algorithm to find two integers in S that sum to k, if such a pair\n",
    "exists. What is the running time of your algorithm?"
   ]
  },
  {
   "cell_type": "code",
   "execution_count": null,
   "metadata": {},
   "outputs": [],
   "source": [
    "\"\"\"\n",
    "The recursive algorithm to solve this problem is:\n",
    "\n",
    "function findSum(S, k, i)\n",
    "// base case\n",
    "if (i >= S.length)\n",
    "return false\n",
    "// check if k-S[i] exists in S\n",
    "if (k-S[i] in S)\n",
    "return (S[i], k-S[i])\n",
    "// recursive call\n",
    "return findSum(S, k, i+1)\n",
    "\"\"\"\n",
    "# // time complexity: O(n)\n"
   ]
  },
  {
   "attachments": {},
   "cell_type": "markdown",
   "metadata": {},
   "source": [
    "C-4.22 Develop a nonrecursive implementation of the version of power from\n",
    "Code Fragment 4.12 that uses repeated squaring"
   ]
  },
  {
   "cell_type": "code",
   "execution_count": 9,
   "metadata": {},
   "outputs": [
    {
     "name": "stdout",
     "output_type": "stream",
     "text": [
      "8\n"
     ]
    }
   ],
   "source": [
    "def power_nonrecursive(x, n):\n",
    "  result = 1\n",
    "  while n > 0:\n",
    "    if n % 2 == 0:\n",
    "      x *= x\n",
    "      n //= 2\n",
    "    else:\n",
    "      result *= x\n",
    "      n -= 1\n",
    "  return result\n",
    "\n",
    "print(power_nonrecursive(2,3))"
   ]
  }
 ],
 "metadata": {
  "kernelspec": {
   "display_name": "Python 3",
   "language": "python",
   "name": "python3"
  },
  "language_info": {
   "codemirror_mode": {
    "name": "ipython",
    "version": 3
   },
   "file_extension": ".py",
   "mimetype": "text/x-python",
   "name": "python",
   "nbconvert_exporter": "python",
   "pygments_lexer": "ipython3",
   "version": "3.9.6"
  },
  "orig_nbformat": 4,
  "vscode": {
   "interpreter": {
    "hash": "33ac0b13241ddba039f67fdc377e8fb84cfad53f7332539f1bccc78a3e0eadda"
   }
  }
 },
 "nbformat": 4,
 "nbformat_minor": 2
}
