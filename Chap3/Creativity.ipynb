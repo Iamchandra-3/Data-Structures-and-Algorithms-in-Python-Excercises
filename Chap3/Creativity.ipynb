{
 "cells": [
  {
   "attachments": {},
   "cell_type": "markdown",
   "metadata": {},
   "source": [
    "C-3.35 Assuming it is possible to sort n numbers in O(nlogn) time, show that it\n",
    "is possible to solve the three-way set disjointness problem in O(nlogn)\n",
    "time."
   ]
  },
  {
   "cell_type": "code",
   "execution_count": 1,
   "metadata": {},
   "outputs": [
    {
     "name": "stdout",
     "output_type": "stream",
     "text": [
      "No\n"
     ]
    }
   ],
   "source": [
    "# Python code to solve 3-way set disjointness problem\n",
    "# in O(nlogn) time\n",
    "\n",
    "def threeWayDisjoint(A, B, C):\n",
    "\n",
    "\t# Sorting the 3 sets\n",
    "\tA.sort()\n",
    "\tB.sort()\n",
    "\tC.sort()\n",
    "\n",
    "\t# Iterating through the 3 sets\n",
    "\ti = j = k = 0\n",
    "\twhile (i < len(A) and\n",
    "                j < len(B) and\n",
    "                k < len(C)):\n",
    "\n",
    "\t\t# If A[i] is smaller than\n",
    "\t\t# both B[j] and C[k],\n",
    "\t\t# then we can increase i.\n",
    "\t\tif A[i] < B[j] and A[i] < C[k]:\n",
    "\t\t\ti += 1\n",
    "\n",
    "\t\t# If B[j] is smaller than\n",
    "\t\t# both A[i] and C[k],\n",
    "\t\t# then we can increase j.\n",
    "\t\telif B[j] < A[i] and B[j] < C[k]:\n",
    "\t\t\tj += 1\n",
    "\n",
    "\t\t# If C[k] is smaller than\n",
    "\t\t# both A[i] and B[j],\n",
    "\t\t# then we can increase k.\n",
    "\t\telif C[k] < A[i] and C[k] < B[j]:\n",
    "\t\t\tk += 1\n",
    "\n",
    "\t\t# We reach here when A[i] == B[j] == C[k].\n",
    "\t\t# This means all the 3 sets have common\n",
    "\t\t# element and hence they are not disjoint.\n",
    "\t\telse:\n",
    "\t\t\treturn False\n",
    "\n",
    "\t# We reach here when either one or both\n",
    "\t# the below conditions become true.\n",
    "\t#\n",
    "\t# 1) i == len(A)\n",
    "\t# 2) j == len(B)\n",
    "\t# 3) k == len(C)\n",
    "\n",
    "\treturn True\n",
    "\n",
    "\n",
    "# Driver code\n",
    "A = [2, 3, 4, 5]\n",
    "B = [1, 4, 5]\n",
    "C = [2, 5, 6]\n",
    "\n",
    "if (threeWayDisjoint(A, B, C) == True):\n",
    "\tprint(\"Yes\")\n",
    "else:\n",
    "\tprint(\"No\")\n",
    "\n",
    "\n",
    "# The time complexity of the above code is O(nlogn).\n"
   ]
  },
  {
   "attachments": {},
   "cell_type": "markdown",
   "metadata": {},
   "source": [
    "C-3.36 Describe an efficient algorithm for finding the ten largest elements in a\n",
    "sequence of size n. What is the running time of your algorithm?\n",
    "\n",
    "\n",
    "One efficient algorithm to find the ten largest elements in a sequence of size n is a modified version of the quicksort algorithm. We can begin by partitioning the sequence and then sorting the left side of the partition in descending order, and the right side in ascending order. We can then take the first ten elements from the left side of the partition as the ten largest elements. This algorithm will have a running time of O(n log n)."
   ]
  },
  {
   "attachments": {},
   "cell_type": "markdown",
   "metadata": {},
   "source": [
    "C-3.37 Give an example of a positive function f(n) such that f(n) is neither O(n)\n",
    "nor Ω(n).\n",
    "\n",
    "\n",
    "f(n) = sqrt(n) + log(n)"
   ]
  },
  {
   "attachments": {},
   "cell_type": "markdown",
   "metadata": {},
   "source": [
    "C-3.38 Show that ∑n i=1 i^2 is O(n3).\n",
    "\n",
    "Answer:\n",
    "The given series can be represented as:\n",
    "∑n i=1 i^2 = 1 + 4 + 9 + 16 + ... + n2\n",
    "\n",
    "This series can be expressed using the Big O notation as O(n3). This is because the series is a polynomial of degree 3, and so the growth rate of the series is proportional to the degree of the polynomial, which is 3."
   ]
  },
  {
   "attachments": {},
   "cell_type": "markdown",
   "metadata": {},
   "source": [
    "C-3.39 Show that ∑n i=1  (i/2^i) < 2. (Hint: Try to bound this sum term by term with\n",
    "a geometric progression.)\n",
    "\n",
    "\n",
    "Let S be the sum given.\n",
    "\n",
    "S = ∑n i=1 (i/2^i)\n",
    "\n",
    "We can write the above sum in terms of geometric progression as follows:\n",
    "\n",
    "S = 1/2 + (2/4) + (3/8) + (4/16) + (5/32) + ... + (n/2^n)\n",
    "\n",
    "Let S' be the upper bound of the sum.\n",
    "\n",
    "S' = 1/2 + (1/2) + (1/2) + (1/2) + (1/2) + ... + (1/2)\n",
    "\n",
    "= n/2\n",
    "\n",
    "Since n/2 is an upper bound for S,\n",
    "\n",
    "S < S' = n/2\n",
    "\n",
    "For n = 2,\n",
    "\n",
    "S' = 2/2 = 1\n",
    "\n",
    "Therefore, S < 2."
   ]
  },
  {
   "attachments": {},
   "cell_type": "markdown",
   "metadata": {},
   "source": [
    "C-3.40 Show that logb f(n) is Θ(log f(n)) if b > 1 is a constant.\n",
    "\n",
    "\n",
    "Let b > 1 be a constant. For any positive constant c,\n",
    "\n",
    "f(n) ≤ cb^(log f(n)) \n",
    "\n",
    "Taking the logarithm on both sides,\n",
    "\n",
    "log b f(n) ≤ log c + log b^(log f(n)) \n",
    "\n",
    "Since b > 1, log b > 0. Therefore,\n",
    "\n",
    "log b f(n) ≤ log c + log f(n) \n",
    "\n",
    "Therefore, log b f(n) is O(log f(n)).\n",
    "\n",
    "Now let c > 1 be a constant. For any positive constant d,\n",
    "\n",
    "cb^(log f(n)) ≤ d f(n) \n",
    "\n",
    "Taking the logarithm on both sides,\n",
    "\n",
    "log b f(n) ≥ log c + log b^(log f(n)) \n",
    "\n",
    "Since b > 1, log b > 0. Therefore, \n",
    "\n",
    "log b f(n) ≥ log c + log f(n) \n",
    "\n",
    "Therefore, log b f(n) is Ω(log f(n)).\n",
    "\n",
    "Since log b f(n) is both O(log f(n)) and Ω(log f(n)), it follows that log b f(n) is Θ(log f(n))."
   ]
  },
  {
   "attachments": {},
   "cell_type": "markdown",
   "metadata": {},
   "source": [
    "C-3.41 Describe an algorithm for finding both the minimum and maximum of n\n",
    "numbers using fewer than 3n/2 comparisons. (Hint: First, construct a\n",
    "group of candidate minimums and a group of candidate maximums.)\n",
    "\n",
    "\n",
    "1. Divide the list of n numbers into two sublists: one of candidate minimums and one of candidate maximums.\n",
    "2. Compare the first number in the list of candidate minimums with the first number in the list of candidate maximums.\n",
    "3. If the number from the list of candidate minimums is smaller, save it as the current minimum, and remove it from the list of candidate minimums.\n",
    "4. If the number from the list of candidate maximums is larger, save it as the current maximum, and remove it from the list of candidate maximums.\n",
    "5. Repeat steps 2-4 until one of the lists is empty.\n",
    "6. From the remaining list, compare all numbers in the list with each other, and save the smallest number as the minimum and the largest number as the maximum.\n",
    "7. Return the minimum and maximum."
   ]
  },
  {
   "attachments": {},
   "cell_type": "markdown",
   "metadata": {},
   "source": [
    "C-3.42 Bob built a Web site and gave the URL only to his n friends, which he\n",
    "numbered from 1 to n. He told friend number i that he/she can visit the\n",
    "Web site at most i times. Now Bob has a counter, C, keeping track of the\n",
    "total number of visits to the site (but not the identities of who visits). What\n",
    "is the minimum value for C such that Bob can know that one of his friends\n",
    "has visited his/her maximum allowed number of times?\n",
    "\n",
    "\n",
    "The minimum value for C is n. Each of Bob's friends can visit the site at most i times, so the total number of visits must be at least equal to the sum of 1 to n, which is equal to n. Thus, the minimum value for C is n."
   ]
  },
  {
   "attachments": {},
   "cell_type": "markdown",
   "metadata": {},
   "source": [
    "C-3.45 A sequence S contains n − 1 unique integers in the range [0,n − 1], that\n",
    "is, there is one number from this range that is not in S. Design an O(n)-\n",
    "time algorithm for finding that number. You are only allowed to use O(1)\n",
    "additional space besides the sequence S itself.\n",
    "\n",
    "Let x be a variable to store the number that is not in S. We initialize x to 0. \n",
    "Then we iterate through the sequence S, and for each element s in S, we set x to the value x XOR s. \n",
    "After the iteration, x will be the number that is not in S since the XOR operation will cancel out any number that appears twice in the sequence. \n",
    "\n",
    "This algorithm runs in O(n) time since we iterate through the sequence once and use only O(1) extra space."
   ]
  },
  {
   "attachments": {},
   "cell_type": "markdown",
   "metadata": {},
   "source": [
    "C-3.46 Al says he can prove that all sheep in a flock are the same color:\n",
    "Base case: One sheep. It is clearly the same color as itself.\n",
    "Induction step: A flock of n sheep. Take a sheep, a, out. The remaining\n",
    "n − 1 are all the same color by induction. Now put sheep a back in and\n",
    "take out a different sheep, b. By induction, the n− 1 sheep (now with a)\n",
    "are all the same color. Therefore, all the sheep in the flock are the same\n",
    "color. What is wrong with Al’s “justification”?\n",
    "\n",
    "\n",
    "Al’s justification does not account for the possibility that the color of the sheep changed when it was taken out and put back in. By induction, all we can assume is that the sheep are the same color when they are taken out and put back in. We cannot assume that the color of the sheep does not change in the process."
   ]
  },
  {
   "attachments": {},
   "cell_type": "markdown",
   "metadata": {},
   "source": [
    "C-3.47 Let S be a set of n lines in the plane such that no two are parallel and\n",
    "no three meet in the same point. Show, by induction, that the lines in S\n",
    "determine Θ(n2) intersection points.\n",
    "\n",
    "\n",
    "Base Case:\n",
    "\n",
    "When n = 1, the line in S will determine 0 intersection points. \n",
    "\n",
    "Inductive Step:\n",
    "\n",
    "Assume that when n = k, the lines in S determine Θ(k2) intersection points.\n",
    "\n",
    "When n = k + 1, consider the additional line. This line will intersect each of the k lines in S, so it will add k more intersection points. Thus, the total number of intersection points is Θ(k2 + k). Simplifying this expression gives Θ((k + 1)2) = Θ((k + 1)2) intersection points. Thus, the induction step holds. \n",
    "\n",
    "By induction, it follows that the lines in S determine Θ(n2) intersection points."
   ]
  },
  {
   "attachments": {},
   "cell_type": "markdown",
   "metadata": {},
   "source": [
    "C-3.48 Consider the following “justification” that the Fibonacci function, F(n)\n",
    "(see Proposition 3.20) is O(n):\n",
    "Base case(n ≤ 2): F(1) = 1 and F(2) = 2.\n",
    "Induction step(n > 2): Assume claim true for n' < n. Consider n. F(n) =\n",
    "F(n−2) + F(n−1). By induction, F(n−2) is O(n−2) and F(n−1) is\n",
    "O(n−1). Then, F(n) is O((n−2)+(n−1)), by the identity presented in\n",
    "Exercise R-3.11. Therefore, F(n) is O(n).\n",
    "What is wrong with this “justification”?\n",
    "\n",
    "This \"justification\" is incorrect because it does not take into account that F(n) is not just a simple addition of F(n-2) and F(n-1). F(n) is actually the sum of the previous two numbers in the Fibonacci sequence, which means that it is actually O(n ^ 2).\n"
   ]
  },
  {
   "attachments": {},
   "cell_type": "markdown",
   "metadata": {},
   "source": [
    "C-3.49 Consider the Fibonacci function, F(n) (see Proposition 3.20). Show by\n",
    "induction that F(n) is Ω((3/2)n).\n",
    "\n",
    "Base Case: \n",
    "When n = 0, F(0) = 0, which is Ω((3/2)0). \n",
    "\n",
    "Inductive Step: \n",
    "Suppose F(n) is Ω((3/2)n). Then,\n",
    "\n",
    "F(n+1) = F(n) + F(n-1) ≥ (3/2)n + (3/2)(n-1) = (3/2)(n+1)\n",
    "\n",
    "Therefore, F(n+1) is Ω((3/2)(n+1)). \n",
    "\n",
    "By induction, F(n) is Ω((3/2)n)."
   ]
  },
  {
   "attachments": {},
   "cell_type": "markdown",
   "metadata": {},
   "source": [
    "C-3.53 An evil king has n bottles of wine, and a spy has just poisoned one of them. Unfortunately, they do not know which one it is. The poison is very deadly; just one drop diluted even a billion to one will still kill. Even so, it takes a full month for the poison to take effect. Design a scheme for determining exactly which one of the wine bottles was poisoned in just\n",
    "one month’s time while expending O(logn) taste testers.\n",
    "\n",
    "\n",
    "One possible solution is to divide the wine bottles into groups of size n/2. Give one group to one taster, and the other group to another taster. After one month, if the tasters are still alive, the poisoned bottle must be in the other group. Then divide the second group into two smaller groups of size n/4, and give one group to one taster, and the other to another taster. After one month, if the tasters are still alive, the poisoned bottle must be in the other group. This process can be repeated until the poisoned bottle is identified. This scheme requires O(logn) taste testers."
   ]
  },
  {
   "attachments": {},
   "cell_type": "markdown",
   "metadata": {},
   "source": [
    "C-3.54 A sequence S contains n integers taken from the interval [0,4n], with repetitions allowed. Describe an efficient algorithm for determining an integer\n",
    "value k that occurs the most often in S. What is the running time of your\n",
    "algorithm?\n",
    "\n",
    "The algorithm we can use is called the Counting Sort algorithm. This algorithm works by counting the number of occurrences of each element in the given array S. It then stores the counts in a separate array and returns the element with the highest count. The running time of this algorithm is O(n) since it only needs to traverse the array S once."
   ]
  }
 ],
 "metadata": {
  "kernelspec": {
   "display_name": "Python 3",
   "language": "python",
   "name": "python3"
  },
  "language_info": {
   "codemirror_mode": {
    "name": "ipython",
    "version": 3
   },
   "file_extension": ".py",
   "mimetype": "text/x-python",
   "name": "python",
   "nbconvert_exporter": "python",
   "pygments_lexer": "ipython3",
   "version": "3.9.6 (tags/v3.9.6:db3ff76, Jun 28 2021, 15:26:21) [MSC v.1929 64 bit (AMD64)]"
  },
  "orig_nbformat": 4,
  "vscode": {
   "interpreter": {
    "hash": "33ac0b13241ddba039f67fdc377e8fb84cfad53f7332539f1bccc78a3e0eadda"
   }
  }
 },
 "nbformat": 4,
 "nbformat_minor": 2
}
