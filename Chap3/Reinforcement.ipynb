{
 "cells": [
  {
   "attachments": {},
   "cell_type": "markdown",
   "metadata": {},
   "source": [
    "Graph the functions 8n, 4nlogn, 2n^2, n^3, and 2^n using a logarithmic scale\n",
    "for the x- and y-axes; that is, if the function value f(n) is y, plot this as a\n",
    "point with x-coordinate at logn and y-coordinate at logy."
   ]
  },
  {
   "cell_type": "code",
   "execution_count": 2,
   "metadata": {},
   "outputs": [
    {
     "name": "stderr",
     "output_type": "stream",
     "text": [
      "C:\\Users\\chandra sekhar\\AppData\\Local\\Temp\\ipykernel_7824\\2235038893.py:18: RuntimeWarning: divide by zero encountered in log\n",
      "  plt.plot(np.log(x), np.log(y2), label=\"4nlogn\")\n"
     ]
    },
    {
     "data": {
      "image/png": "[encoded data removed]",
      "text/plain": [
       "<Figure size 432x288 with 1 Axes>"
      ]
     },
     "metadata": {
      "needs_background": "light"
     },
     "output_type": "display_data"
    }
   ],
   "source": [
    "#R-3.1\n",
    "\n",
    "import matplotlib.pyplot as plt\n",
    "import numpy as np\n",
    "\n",
    "# setting the x-axis\n",
    "x = np.arange(1, 20)\n",
    "\n",
    "# setting the corresponding y-axis\n",
    "y1 = 8*x\n",
    "y2 = 4*x*np.log(x)\n",
    "y3 = 2*x*x\n",
    "y4 = x*x*x\n",
    "y5 = 2**x\n",
    "\n",
    "# potting the points\n",
    "plt.plot(np.log(x), np.log(y1), label=\"8n\")\n",
    "plt.plot(np.log(x), np.log(y2), label=\"4nlogn\")\n",
    "plt.plot(np.log(x), np.log(y3), label=\"2n^2\")\n",
    "plt.plot(np.log(x), np.log(y4), label=\"n^3\")\n",
    "plt.plot(np.log(x), np.log(y5), label=\"2^n\")\n",
    "\n",
    "# naming the x axis\n",
    "plt.xlabel('log(n)')\n",
    "# naming the y axis\n",
    "plt.ylabel('log(f(n))')\n",
    "# giving a title to my graph\n",
    "plt.title('Graph of 8n, 4nlogn, 2n^2, n^3, and 2^n using a logarithmic scale')\n",
    "\n",
    "# show a legend on the plot\n",
    "plt.legend()\n",
    "\n",
    "# function to show the plot\n",
    "plt.show()\n"
   ]
  },
  {
   "attachments": {},
   "cell_type": "markdown",
   "metadata": {},
   "source": [
    "The number of operations executed by algorithms A and B is 8nlog n and\n",
    "2n^2, respectively. Determine n0 such that A is better than B for n ≥ n0."
   ]
  },
  {
   "attachments": {},
   "cell_type": "markdown",
   "metadata": {},
   "source": [
    "#R-3.2\n",
    "\n",
    "For algorithm A (8nlog n) to be better than algorithm B (2n^2), we need the following to be true:\n",
    "\n",
    "8nlog n < 2n^2\n",
    "\n",
    "We can solve this inequality by taking the logarithm of both sides:\n",
    "\n",
    "log (8nlog n) < log (2n^2)\n",
    "\n",
    "This simplifies to:\n",
    "\n",
    "log 8 + log n < 2log n\n",
    "\n",
    "We can then solve for n by subtracting log 8 from both sides:\n",
    "\n",
    "log n < 2log n - log 8\n",
    "\n",
    "This simplifies to:\n",
    "\n",
    "log n < (-log 8) \n",
    "\n",
    "We can then take the antilog of both sides:\n",
    "\n",
    "n < 8-1\n",
    "\n",
    "Therefore, for n ≥ 8, algorithm A is better than algorithm B. So, n0 = 8."
   ]
  },
  {
   "attachments": {},
   "cell_type": "markdown",
   "metadata": {},
   "source": [
    "The number of operations executed by algorithms A and B is 40n^2 and\n",
    "2n^3, respectively. Determine n0 such that A is better than B for n ≥ n0.\n"
   ]
  },
  {
   "attachments": {},
   "cell_type": "markdown",
   "metadata": {},
   "source": [
    "#R-3.3\n",
    "\n",
    "Step 1: Compare the operations of algorithms A and B.\n",
    "\n",
    "Algorithm A: 40n^2\n",
    "\n",
    "Algorithm B: 2n^3\n",
    "\n",
    "Step 2: Calculate the ratio of operations between A and B.\n",
    "\n",
    "Ratio = (40n^2)/(2n^3)\n",
    "\n",
    "Step 3: Set the ratio equal to 1 and solve for n.\n",
    "\n",
    "(40n^2)/(2n^3) = 1\n",
    "\n",
    "40n^2 = 2n^3\n",
    "\n",
    "40n = 2n^2\n",
    "\n",
    "40 = 2n\n",
    "\n",
    "n = 20\n",
    "\n",
    "Step 4: Therefore, the value of n0 is 20, such that algorithm A is better than algorithm B for n ≥ n0."
   ]
  },
  {
   "attachments": {},
   "cell_type": "markdown",
   "metadata": {},
   "source": [
    "#R-3.4\n",
    "\n",
    "Give an example of a function that is plotted the same on a log-log scale\n",
    "as it is on a standard scale.\n",
    "\n",
    "\n",
    "A linear function. For example, y = x."
   ]
  },
  {
   "attachments": {},
   "cell_type": "markdown",
   "metadata": {},
   "source": [
    "#R-3.5\n",
    "\n",
    "Explain why the plot of the function n^c is a straight line with slope c on a\n",
    "log-log scale.\n",
    "\n",
    "The plot of the function n^c on a log-log scale is a straight line with slope c because the logarithm of a power law is linear. The logarithm of a power law is defined as log(n^c) = c*log(n). As the logarithm of n increases, the logarithm of n^c increases by a factor of c, resulting in a straight line with slope c."
   ]
  },
  {
   "attachments": {},
   "cell_type": "markdown",
   "metadata": {},
   "source": [
    "#R-3.6\n",
    "\n",
    "What is the sum of all the even numbers from 0 to 2n, for any positive\n",
    "integer n?\n",
    "\n",
    "The sum of all the even numbers from 0 to 2n is equal to n(n+1)."
   ]
  },
  {
   "attachments": {},
   "cell_type": "markdown",
   "metadata": {},
   "source": [
    "#R-3.7\n",
    "\n",
    "Show that the following two statements are equivalent:\n",
    "(a) The running time of algorithm A is always O(f(n)).\n",
    "(b) In the worst case, the running time of algorithm A is O(f(n)).\n",
    "\n",
    "\n",
    "(a)⇔ (b) \n",
    "\n",
    "Let c,n0 be constants such that the running time of algorithm A is always O(f(n)) for all n>=n0.\n",
    "\n",
    "This means that for all n>=n0, there exists a constant c such that the running time of algorithm A is always ≤ c*f(n).\n",
    "\n",
    "In the worst case, the running time of algorithm A is O(f(n)) if and only if there exists a constant c such that the running time of algorithm A is always ≤ c*f(n).\n",
    "\n",
    "Therefore, (a) and (b) are equivalent."
   ]
  },
  {
   "attachments": {},
   "cell_type": "markdown",
   "metadata": {},
   "source": [
    "#R-3.8\n",
    "\n",
    "Order the following functions by asymptotic growth rate.\n",
    "4nlog n+2n 2^10 2^(log n)\n",
    "3n+100log n 4n 2^n\n",
    "n^2 +10n n^3 nlogn\n",
    "\n",
    "The correct order would be: 2^10, 2^(log n), 3n+100log n, 4n, nlogn, 4nlog n+2n, n^2 +10n, n^3, 2^n."
   ]
  },
  {
   "attachments": {},
   "cell_type": "markdown",
   "metadata": {},
   "source": [
    "#R-3.9\n",
    "\n",
    "Show that if d(n) is O(f(n)), then ad(n) is O(f(n)), for any constant\n",
    "a > 0.\n",
    "\n",
    "\n",
    "Given that d(n) is O(f(n)), there exists a positive constant c and integer n₀ such that d(n) ≤ c*f(n) for all n ≥ n₀.\n",
    "\n",
    "It follows that ad(n) ≤ ac*f(n) for all n ≥ n₀.\n",
    "\n",
    "Therefore, ad(n) is O(f(n)) for any constant a > 0."
   ]
  },
  {
   "attachments": {},
   "cell_type": "markdown",
   "metadata": {},
   "source": [
    "#R-3.10\n",
    "\n",
    "Show that if d(n)is O(f(n)) and e(n) is O(g(n)), then the product d(n)e(n)\n",
    "is O(f(n)g(n))\n",
    "\n",
    "\n",
    "d(n) = O(f(n))\n",
    "e(n) = O(g(n))\n",
    "\n",
    "d(n)e(n) = O(f(n)g(n))\n",
    "\n",
    "Proof:\n",
    "\n",
    "By definition, there exist positive constants c1 and c2 such that:\n",
    "\n",
    "d(n) ≤ c1*f(n)\n",
    "e(n) ≤ c2*g(n)\n",
    "\n",
    "Therefore,\n",
    "\n",
    "d(n)e(n) ≤ c1* c2*f(n)g(n)\n",
    "\n",
    "Since c1 and c2 are positive constants, d(n)e(n) is O(f(n)g(n))."
   ]
  },
  {
   "attachments": {},
   "cell_type": "markdown",
   "metadata": {},
   "source": [
    "#R-3.11\n",
    "\n",
    "Show that if d(n) is O(f(n)) and e(n) is O(g(n)), then d(n) + e(n) is\n",
    "O(f(n) +g(n)).\n",
    "\n",
    "\n",
    "Let c1, c2 be constants such that d(n) ≤ c1 · f(n) and e(n) ≤ c2 · g(n).\n",
    "\n",
    "Then d(n) + e(n) ≤ c1 · f(n) + c2 · g(n) = (c1 + c2) · (f(n) + g(n)).\n",
    "\n",
    "Therefore, d(n) + e(n) is O(f(n) + g(n))."
   ]
  },
  {
   "attachments": {},
   "cell_type": "markdown",
   "metadata": {},
   "source": [
    "#R-3.12\n",
    "\n",
    "\n",
    "Show that if d(n) is O(f(n)) and e(n) is O(g(n)), then d(n)−e(n) is not\n",
    "necessarily O(f(n)−g(n)).\n",
    "\n",
    "\n",
    "No, d(n)−e(n) is not necessarily O(f(n)−g(n)). Consider the following example:\n",
    "\n",
    "Let d(n) = n2 and e(n) = n. \n",
    "\n",
    "Then d(n) is O(n2) and e(n) is O(n). \n",
    "\n",
    "However, d(n) − e(n) = n2 − n = n(n − 1) is not O(n2 − n) = O(n)."
   ]
  },
  {
   "attachments": {},
   "cell_type": "markdown",
   "metadata": {},
   "source": [
    "#R-3.13\n",
    "\n",
    "Show that if d(n) is O(f(n)) and f(n) is O(g(n)), then d(n) is O(g(n))\n",
    "\n",
    "\n",
    "d(n) is O(f(n)) <=> ∃ c1, n0 > 0 such that 0 ≤ d(n) ≤ c1f(n) for all n ≥ n0\n",
    "\n",
    "f(n) is O(g(n)) <=> ∃ c2, n1 > 0 such that 0 ≤ f(n) ≤ c2g(n) for all n ≥ n1\n",
    "\n",
    "Let c = max(c1, c2), n0 = max(n0, n1). Then 0 ≤ d(n) ≤ cg(n) for all n ≥ n0.\n",
    "\n",
    "Therefore, d(n) is O(g(n))"
   ]
  },
  {
   "attachments": {},
   "cell_type": "markdown",
   "metadata": {},
   "source": [
    "#R-3.14\n",
    "\n",
    "Show that O(max{ f(n),g(n)}) = O(f(n) +g(n)).\n",
    "\n",
    "\n",
    "Let's denote max{f(n), g(n)} as h(n).\n",
    "\n",
    "We will prove this statement by contradiction. Suppose that O(max{f(n), g(n)}) ≠ O(f(n) + g(n)). This implies that there exist constants c1, c2, n0 such that\n",
    "\n",
    "c1 * h(n) ≤ n0, \n",
    "\n",
    "but \n",
    "\n",
    "c2 * (f(n) + g(n)) > n0, \n",
    "\n",
    "for all n > n0.\n",
    "\n",
    "Let's assume that h(n) = f(n). This implies that c1 * f(n) ≤ n0. However, since c2 * (f(n) + g(n)) > n0, this implies that c2 * g(n) > 0. This contradicts our assumption that h(n) = f(n), since h(n) is the maximum of f(n) and g(n).\n",
    "\n",
    "Therefore, we can conclude that O(max{f(n), g(n)}) = O(f(n) + g(n))."
   ]
  },
  {
   "attachments": {},
   "cell_type": "markdown",
   "metadata": {},
   "source": [
    "R-3.15 Show that f(n) is O(g(n)) if and only if g(n) is Ω(f(n)).\n",
    "\n",
    "\n",
    "A:\n",
    "\n",
    "The statement is true.\n",
    "\n",
    "f(n) is O(g(n)) if and only if\n",
    "for any positive constant c and for all values of n greater than or equal to some n0, f(n) <= c * g(n). \n",
    "\n",
    "g(n) is Ω(f(n)) if and only if\n",
    "for any positive constant c and for all values of n greater than or equal to some n0, g(n) >= c * f(n). \n",
    "\n",
    "It can be seen that the two conditions are equivalent."
   ]
  },
  {
   "attachments": {},
   "cell_type": "markdown",
   "metadata": {},
   "source": [
    "R-3.16 Show that if p(n) is a polynomial in n, then log p(n) is O(logn).\n",
    "\n",
    "\n",
    "\n",
    "Let p(n) = an^k + an^(k-1) + ... + a1 + a0 be a polynomial of degree k in n.\n",
    "\n",
    "Then,\n",
    "\n",
    "log p(n) = log(an^k + an^(k-1) + ... + a1 + a0)\n",
    "\n",
    "<= log(an^k + an^k + ... + an^k + an^k)\n",
    "\n",
    "<= klog(an)\n",
    "\n",
    "<= klog(n^k)\n",
    "\n",
    "= klog(n)\n",
    "\n",
    "Therefore, log p(n) = O(log n)."
   ]
  },
  {
   "attachments": {},
   "cell_type": "markdown",
   "metadata": {},
   "source": [
    "R-3.17 Show that (n+1)^5 is O(n5).\n",
    "\n",
    "\n",
    "We use the definition of Big O notation to prove that (n+1)^5 is O(n5):\n",
    "\n",
    "Let c be a constant. We need to show that there exists a value of n, n0, such that (n+1)^5 ≤ cn5 for all n ≥ n0.\n",
    "\n",
    "We can choose c = 1 and n0 = 0. Then for any n ≥ 0, we have\n",
    "\n",
    "(n+1)^5 ≤ (n+1)^5 ≤ (n+1)^5 ≤ 1·n5\n",
    "\n",
    "Thus, (n+1)^5 is O(n5)."
   ]
  },
  {
   "attachments": {},
   "cell_type": "markdown",
   "metadata": {},
   "source": [
    "R-3.18 Show that 2^(n+1) is O(2^n).\n",
    "\n",
    "2^(n+1) = 2 * 2^n\n",
    "\n",
    "2^n is O(2^n)\n",
    "\n",
    "Therefore, 2 * 2^n = 2^(n+1) is O(2^n)"
   ]
  },
  {
   "attachments": {},
   "cell_type": "markdown",
   "metadata": {},
   "source": [
    "R-3.19 Show that n is O(nlogn).\n",
    "\n",
    "We can prove this by using the definition of Big O notation.\n",
    "\n",
    "Let's assume that n is some positive integer. Then, n is O(nlogn) if there exist constants c and k such that n ≤ cnlogn for all n ≥ k.\n",
    "\n",
    "We can choose c = 1 and k = 1, and note that n ≤ nlogn for all n ≥ 1. This implies that n is indeed O(nlogn)."
   ]
  },
  {
   "attachments": {},
   "cell_type": "markdown",
   "metadata": {},
   "source": [
    "R-3.20 Show that n^2 is Ω(nlogn)\n",
    "\n",
    "\n",
    "Let f(n) = n^2 and g(n) = nlogn.\n",
    "\n",
    "We must show that there exists a positive constant c and an integer n0 such that for all n>n0, f(n) ≥ cg(n).\n",
    "\n",
    "Let c = 1 and n0 = 1.\n",
    "\n",
    "For all n>1, n^2 ≥ nlogn.\n",
    "\n",
    "Therefore, n^2 is Ω(nlogn)."
   ]
  },
  {
   "attachments": {},
   "cell_type": "markdown",
   "metadata": {},
   "source": [
    "R-3.21 Show that nlog n is Ω(n).\n",
    "\n",
    "\n",
    "Let's start by defining the notation for Big O and Big Omega.\n",
    "\n",
    "Big O: O(g(n)) = {f(n): there exist positive constants c and n0 such that 0 <= f(n) <= cg(n) for all n >= n0}\n",
    "\n",
    "Big Omega: Ω(g(n)) = {f(n): there exist positive constants c and n0 such that 0 <= cg(n) <= f(n) for all n >= n0}\n",
    "\n",
    "We can prove that nlog n is Ω(n) by showing that there exist positive constants c and n0 such that 0 ≤ cn ≤ nlog n for all n ≥ n0.\n",
    "\n",
    "Let c = 1 and n0 = 1. Now, for all n ≥ n0, we can show that 0 ≤ cn ≤ nlog n:\n",
    "\n",
    "0 ≤ 1n ≤ 1log 1\n",
    "\n",
    "1 ≤ 1n ≤ 2log 2\n",
    "\n",
    "2 ≤ 1n ≤ 3log 3\n",
    "\n",
    "3 ≤ 1n ≤ 4log 4\n",
    "\n",
    "...\n",
    "\n",
    "n ≥ 1n ≤ nlog n\n",
    "\n",
    "Therefore, we can conclude that nlog n is Ω(n).\n"
   ]
  },
  {
   "attachments": {},
   "cell_type": "markdown",
   "metadata": {},
   "source": [
    "R-3.22 Show that ceil(f(n) ) is O(f(n)), if f(n) is a positive nondecreasing function that is always greater than 1.\n",
    "\n",
    "Let f(n) be a positive nondecreasing function that is always greater than 1.\n",
    "\n",
    "We know that ceil(f(n)) is the smallest integer value greater than or equal to f(n).\n",
    "Therefore, for any arbitrary positive integer n, ceil(f(n)) <= f(n) + 1.\n",
    "\n",
    "Therefore, we can say that ceil(f(n)) is O(f(n))."
   ]
  },
  {
   "attachments": {},
   "cell_type": "markdown",
   "metadata": {},
   "source": [
    "### R-3.23 \n",
    "Give a big-Oh characterization, in terms of n, of the running time of the example1 function shown in Code Fragment 3.10.\n",
    "\n",
    "def example1(S):\n",
    "\n",
    " ”””Return the sum of the elements in sequence S.”””\n",
    "\n",
    " n = len(S)\n",
    "\n",
    " total = 0\n",
    "\n",
    " for j in range(n): # loop from 0 to n-1\n",
    "\n",
    " total += S[j]\n",
    "\n",
    " return total\n",
    "\n",
    "O(n)\n",
    "\n",
    "\n",
    "\n",
    "### R-3.24\n",
    " Give a big-Oh characterization, in terms of n, of the running time of the example2 function shown in Code Fragment 3.10\n",
    "\n",
    "def example2(S):\n",
    "\n",
    " ”””Return the sum of the elements with even index in sequence S.”””\n",
    "\n",
    " n = len(S)\n",
    "\n",
    " total = 0\n",
    " \n",
    " for j in range(0, n, 2): # note the increment of 2\n",
    " \n",
    " total += S[j]\n",
    " \n",
    " return total\n",
    "\n",
    "O(n/2) = O(n)\n",
    "\n",
    "\n",
    "### R-3.25 \n",
    "Give a big-Oh characterization, in terms of n, of the running time of the example3 function shown in Code Fragment 3.10.\n",
    "\n",
    "def example3(S):\n",
    "\n",
    "”””Return the sum of the prefix sums of sequence S.”””\n",
    "\n",
    "n = len(S)\n",
    "\n",
    "total = 0\n",
    "\n",
    "for j in range(n): # loop from 0 to n-1\n",
    "\n",
    " for k in range(1+j): # loop from 0 to j\n",
    "\n",
    " total += S[k]\n",
    "\n",
    " return total\n",
    "\n",
    "O(n^2)\n",
    "\n",
    "\n",
    "### R-3.26 \n",
    "Give a big-Oh characterization, in terms of n, of the running time of the example4 function shown in Code Fragment 3.10.\n",
    "\n",
    "def example4(S):\n",
    "\n",
    " ”””Return the sum of the prefix sums of sequence S.”””\n",
    "\n",
    " n = len(S)\n",
    "\n",
    " prefix = 0\n",
    "\n",
    " total = 0\n",
    "\n",
    " for j in range(n):\n",
    "\n",
    " prefix += S[j]\n",
    "\n",
    " total += prefix\n",
    "\n",
    " return total\n",
    "\n",
    "O(n)\n",
    "\n",
    "\n",
    "### R-3.27 \n",
    "Give a big-Oh characterization, in terms of n, of the running time of the example5 function shown in Code Fragment 3.10.\n",
    "\n",
    "\n",
    "def example5(A, B): # assume that A and B have equal length\n",
    "\n",
    " ”””Return the number of elements in B equal to the sum of prefix sums in A.”””\n",
    "\n",
    " n = len(A)\n",
    "\n",
    " count = 0\n",
    "\n",
    " for i in range(n): # loop from 0 to n-1\n",
    "\n",
    " total = 0\n",
    "\n",
    " for j in range(n): # loop from 0 to n-1\n",
    "\n",
    " for k in range(1+j): # loop from 0 to j\n",
    "\n",
    " total += A[k]\n",
    "\n",
    " if B[i] == total:\n",
    "\n",
    " count += 1\n",
    "\n",
    " return count\n",
    "\n",
    "O(n^3)"
   ]
  },
  {
   "attachments": {},
   "cell_type": "markdown",
   "metadata": {},
   "source": [
    "#### R-3.29 \n",
    "Algorithm A executes an O(log n)-time computation for each entry of an n-element sequence. What is its worst-case running time?\n",
    "\n",
    "O(n log n)"
   ]
  },
  {
   "attachments": {},
   "cell_type": "markdown",
   "metadata": {},
   "source": [
    "#### R-3.30\n",
    "Given an n-element sequence S, Algorithm B chooses logn elements in\n",
    "S at random and executes an O(n)-time calculation for each. What is the\n",
    "worst-case running time of Algorithm B?\n",
    "\n",
    "\n",
    "The worst-case running time of Algorithm B is O(n log n)."
   ]
  },
  {
   "attachments": {},
   "cell_type": "markdown",
   "metadata": {},
   "source": [
    "#### R-3.31 \n",
    "Given an n-element sequence S of integers, Algorithm C executes an\n",
    "O(n)-time computation for each even number in S, and an O(logn)-time\n",
    "computation for each odd number in S. What are the best-case and worst-case running times of Algorithm C?\n",
    "\n",
    "Best-case running time: O(n)\n",
    "Worst-case running time: O(nlogn)"
   ]
  },
  {
   "attachments": {},
   "cell_type": "markdown",
   "metadata": {},
   "source": [
    "#### R-3.32 \n",
    "Given an n-element sequence S, Algorithm D calls Algorithm E on each\n",
    "element S[i]. Algorithm E runs in O(i) time when it is called on element\n",
    "S[i]. What is the worst-case running time of Algorithm D?\n",
    "\n",
    "O(n^2)"
   ]
  },
  {
   "attachments": {},
   "cell_type": "markdown",
   "metadata": {},
   "source": [
    "#### R-3.33\n",
    " Al and Bob are arguing about their algorithms. Al claims his O(nlogn)-\n",
    "time method is always faster than Bob’s O(n2)-time method. To settle the\n",
    "issue, they perform a set of experiments. To Al’s dismay, they find that if\n",
    "n < 100, the O(n2)-time algorithm runs faster, and only when n ≥ 100 is\n",
    "the O(nlogn)-time one better. Explain how this is possible.\n",
    "\n",
    "\n",
    "This is possible because the runtime of an algorithm can depend on more than just the order of growth. For a small input size, the O(n2)-time algorithm may be more efficient overall. This could be because of the constant factors associated with the algorithms, the underlying implementation of the algorithms, the size and structure of the input, and other factors. Therefore, if n is relatively small, the O(n2)-time algorithm may run faster than the O(nlogn)-time one."
   ]
  },
  {
   "attachments": {},
   "cell_type": "markdown",
   "metadata": {},
   "source": [
    "#### R-3.34 \n",
    "There is a well-known city (which will go nameless here) whose inhabitants have the reputation of enjoying a meal only if that meal is the best\n",
    "they have ever experienced in their life. Otherwise, they hate it. Assuming meal quality is distributed uniformly across a person’s life, describe\n",
    "the expected number of times inhabitants of this city are happy with their meals?\n",
    "\n",
    "Assuming that each person experiences an average of three meals per day over the course of their life, the expected number of times inhabitants of this city are happy with their meals is approximately one out of every three meals, or 33%."
   ]
  }
 ],
 "metadata": {
  "kernelspec": {
   "display_name": "Python 3",
   "language": "python",
   "name": "python3"
  },
  "language_info": {
   "codemirror_mode": {
    "name": "ipython",
    "version": 3
   },
   "file_extension": ".py",
   "mimetype": "text/x-python",
   "name": "python",
   "nbconvert_exporter": "python",
   "pygments_lexer": "ipython3",
   "version": "3.9.6"
  },
  "orig_nbformat": 4,
  "vscode": {
   "interpreter": {
    "hash": "33ac0b13241ddba039f67fdc377e8fb84cfad53f7332539f1bccc78a3e0eadda"
   }
  }
 },
 "nbformat": 4,
 "nbformat_minor": 2
}
